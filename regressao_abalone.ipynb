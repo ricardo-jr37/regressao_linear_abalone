{
  "nbformat": 4,
  "nbformat_minor": 0,
  "metadata": {
    "colab": {
      "name": "regressao_abalone.ipynb",
      "provenance": [],
      "collapsed_sections": [],
      "toc_visible": true
    },
    "kernelspec": {
      "name": "python3",
      "display_name": "Python 3"
    }
  },
  "cells": [
    {
      "cell_type": "markdown",
      "metadata": {
        "id": "7MtiQ7yv0mfu"
      },
      "source": [
        ""
      ]
    },
    {
      "cell_type": "markdown",
      "metadata": {
        "id": "hEVs0v0PoXVF"
      },
      "source": [
        "# Importando as bibliotecas necessárias"
      ]
    },
    {
      "cell_type": "code",
      "metadata": {
        "id": "HJ-XE2l3nAJP"
      },
      "source": [
        "import numpy as np\r\n",
        "import pandas as pd\r\n",
        "import matplotlib.pyplot as plt\r\n",
        "import seaborn as sns\r\n",
        "%matplotlib inline\r\n",
        "sns.set_theme(style=\"whitegrid\")\r\n",
        "from sklearn.model_selection import cross_val_score\r\n",
        "from sklearn.model_selection import RepeatedKFold\r\n",
        "from sklearn.model_selection import cross_validate"
      ],
      "execution_count": null,
      "outputs": []
    },
    {
      "cell_type": "markdown",
      "metadata": {
        "id": "IT7c0mMYoLF2"
      },
      "source": [
        "# Etapa 1"
      ]
    },
    {
      "cell_type": "code",
      "metadata": {
        "id": "2lHhSsgin488"
      },
      "source": [
        "df = pd.read_csv('data/abalone.csv',sep=';',decimal=',')\r\n",
        "\r\n",
        "df = df.drop(columns=['Unnamed: 0'])"
      ],
      "execution_count": null,
      "outputs": []
    },
    {
      "cell_type": "code",
      "metadata": {
        "colab": {
          "base_uri": "https://localhost:8080/",
          "height": 204
        },
        "id": "N_rJ9Xiun_HP",
        "outputId": "4257d21a-ced2-4faf-d2f8-d83d8428caf1"
      },
      "source": [
        "df.head()"
      ],
      "execution_count": null,
      "outputs": [
        {
          "output_type": "execute_result",
          "data": {
            "text/html": [
              "<div>\n",
              "<style scoped>\n",
              "    .dataframe tbody tr th:only-of-type {\n",
              "        vertical-align: middle;\n",
              "    }\n",
              "\n",
              "    .dataframe tbody tr th {\n",
              "        vertical-align: top;\n",
              "    }\n",
              "\n",
              "    .dataframe thead th {\n",
              "        text-align: right;\n",
              "    }\n",
              "</style>\n",
              "<table border=\"1\" class=\"dataframe\">\n",
              "  <thead>\n",
              "    <tr style=\"text-align: right;\">\n",
              "      <th></th>\n",
              "      <th>Type</th>\n",
              "      <th>LongestShell</th>\n",
              "      <th>Diameter</th>\n",
              "      <th>Height</th>\n",
              "      <th>WholeWeight</th>\n",
              "      <th>ShuckedWeight</th>\n",
              "      <th>VisceraWeight</th>\n",
              "      <th>ShellWeight</th>\n",
              "      <th>Rings</th>\n",
              "    </tr>\n",
              "  </thead>\n",
              "  <tbody>\n",
              "    <tr>\n",
              "      <th>0</th>\n",
              "      <td>M</td>\n",
              "      <td>0.455</td>\n",
              "      <td>0.365</td>\n",
              "      <td>0.095</td>\n",
              "      <td>0.5140</td>\n",
              "      <td>0.2245</td>\n",
              "      <td>0.1010</td>\n",
              "      <td>0.150</td>\n",
              "      <td>15</td>\n",
              "    </tr>\n",
              "    <tr>\n",
              "      <th>1</th>\n",
              "      <td>M</td>\n",
              "      <td>0.350</td>\n",
              "      <td>0.265</td>\n",
              "      <td>0.090</td>\n",
              "      <td>0.2255</td>\n",
              "      <td>0.0995</td>\n",
              "      <td>0.0485</td>\n",
              "      <td>0.070</td>\n",
              "      <td>7</td>\n",
              "    </tr>\n",
              "    <tr>\n",
              "      <th>2</th>\n",
              "      <td>F</td>\n",
              "      <td>0.530</td>\n",
              "      <td>0.420</td>\n",
              "      <td>0.135</td>\n",
              "      <td>0.6770</td>\n",
              "      <td>0.2565</td>\n",
              "      <td>0.1415</td>\n",
              "      <td>0.210</td>\n",
              "      <td>9</td>\n",
              "    </tr>\n",
              "    <tr>\n",
              "      <th>3</th>\n",
              "      <td>M</td>\n",
              "      <td>0.440</td>\n",
              "      <td>0.365</td>\n",
              "      <td>0.125</td>\n",
              "      <td>0.5160</td>\n",
              "      <td>0.2155</td>\n",
              "      <td>0.1140</td>\n",
              "      <td>0.155</td>\n",
              "      <td>10</td>\n",
              "    </tr>\n",
              "    <tr>\n",
              "      <th>4</th>\n",
              "      <td>I</td>\n",
              "      <td>0.330</td>\n",
              "      <td>0.255</td>\n",
              "      <td>0.080</td>\n",
              "      <td>0.2050</td>\n",
              "      <td>0.0895</td>\n",
              "      <td>0.0395</td>\n",
              "      <td>0.055</td>\n",
              "      <td>7</td>\n",
              "    </tr>\n",
              "  </tbody>\n",
              "</table>\n",
              "</div>"
            ],
            "text/plain": [
              "  Type  LongestShell  Diameter  ...  VisceraWeight  ShellWeight  Rings\n",
              "0    M         0.455     0.365  ...         0.1010        0.150     15\n",
              "1    M         0.350     0.265  ...         0.0485        0.070      7\n",
              "2    F         0.530     0.420  ...         0.1415        0.210      9\n",
              "3    M         0.440     0.365  ...         0.1140        0.155     10\n",
              "4    I         0.330     0.255  ...         0.0395        0.055      7\n",
              "\n",
              "[5 rows x 9 columns]"
            ]
          },
          "metadata": {
            "tags": []
          },
          "execution_count": 55
        }
      ]
    },
    {
      "cell_type": "code",
      "metadata": {
        "colab": {
          "base_uri": "https://localhost:8080/",
          "height": 297
        },
        "id": "pmM7aMtguJZs",
        "outputId": "5384179d-21bb-4bd2-bcd9-1ca60bcbada2"
      },
      "source": [
        "df.describe()"
      ],
      "execution_count": null,
      "outputs": [
        {
          "output_type": "execute_result",
          "data": {
            "text/html": [
              "<div>\n",
              "<style scoped>\n",
              "    .dataframe tbody tr th:only-of-type {\n",
              "        vertical-align: middle;\n",
              "    }\n",
              "\n",
              "    .dataframe tbody tr th {\n",
              "        vertical-align: top;\n",
              "    }\n",
              "\n",
              "    .dataframe thead th {\n",
              "        text-align: right;\n",
              "    }\n",
              "</style>\n",
              "<table border=\"1\" class=\"dataframe\">\n",
              "  <thead>\n",
              "    <tr style=\"text-align: right;\">\n",
              "      <th></th>\n",
              "      <th>LongestShell</th>\n",
              "      <th>Diameter</th>\n",
              "      <th>Height</th>\n",
              "      <th>WholeWeight</th>\n",
              "      <th>ShuckedWeight</th>\n",
              "      <th>VisceraWeight</th>\n",
              "      <th>ShellWeight</th>\n",
              "      <th>Rings</th>\n",
              "    </tr>\n",
              "  </thead>\n",
              "  <tbody>\n",
              "    <tr>\n",
              "      <th>count</th>\n",
              "      <td>4177.000000</td>\n",
              "      <td>4177.000000</td>\n",
              "      <td>4177.000000</td>\n",
              "      <td>4177.000000</td>\n",
              "      <td>4177.000000</td>\n",
              "      <td>4177.000000</td>\n",
              "      <td>4177.000000</td>\n",
              "      <td>4177.000000</td>\n",
              "    </tr>\n",
              "    <tr>\n",
              "      <th>mean</th>\n",
              "      <td>0.523992</td>\n",
              "      <td>0.407881</td>\n",
              "      <td>0.139516</td>\n",
              "      <td>0.828742</td>\n",
              "      <td>0.359367</td>\n",
              "      <td>0.180594</td>\n",
              "      <td>0.238831</td>\n",
              "      <td>9.933684</td>\n",
              "    </tr>\n",
              "    <tr>\n",
              "      <th>std</th>\n",
              "      <td>0.120093</td>\n",
              "      <td>0.099240</td>\n",
              "      <td>0.041827</td>\n",
              "      <td>0.490389</td>\n",
              "      <td>0.221963</td>\n",
              "      <td>0.109614</td>\n",
              "      <td>0.139203</td>\n",
              "      <td>3.224169</td>\n",
              "    </tr>\n",
              "    <tr>\n",
              "      <th>min</th>\n",
              "      <td>0.075000</td>\n",
              "      <td>0.055000</td>\n",
              "      <td>0.000000</td>\n",
              "      <td>0.002000</td>\n",
              "      <td>0.001000</td>\n",
              "      <td>0.000500</td>\n",
              "      <td>0.001500</td>\n",
              "      <td>1.000000</td>\n",
              "    </tr>\n",
              "    <tr>\n",
              "      <th>25%</th>\n",
              "      <td>0.450000</td>\n",
              "      <td>0.350000</td>\n",
              "      <td>0.115000</td>\n",
              "      <td>0.441500</td>\n",
              "      <td>0.186000</td>\n",
              "      <td>0.093500</td>\n",
              "      <td>0.130000</td>\n",
              "      <td>8.000000</td>\n",
              "    </tr>\n",
              "    <tr>\n",
              "      <th>50%</th>\n",
              "      <td>0.545000</td>\n",
              "      <td>0.425000</td>\n",
              "      <td>0.140000</td>\n",
              "      <td>0.799500</td>\n",
              "      <td>0.336000</td>\n",
              "      <td>0.171000</td>\n",
              "      <td>0.234000</td>\n",
              "      <td>9.000000</td>\n",
              "    </tr>\n",
              "    <tr>\n",
              "      <th>75%</th>\n",
              "      <td>0.615000</td>\n",
              "      <td>0.480000</td>\n",
              "      <td>0.165000</td>\n",
              "      <td>1.153000</td>\n",
              "      <td>0.502000</td>\n",
              "      <td>0.253000</td>\n",
              "      <td>0.329000</td>\n",
              "      <td>11.000000</td>\n",
              "    </tr>\n",
              "    <tr>\n",
              "      <th>max</th>\n",
              "      <td>0.815000</td>\n",
              "      <td>0.650000</td>\n",
              "      <td>1.130000</td>\n",
              "      <td>2.825500</td>\n",
              "      <td>1.488000</td>\n",
              "      <td>0.760000</td>\n",
              "      <td>1.005000</td>\n",
              "      <td>29.000000</td>\n",
              "    </tr>\n",
              "  </tbody>\n",
              "</table>\n",
              "</div>"
            ],
            "text/plain": [
              "       LongestShell     Diameter  ...  ShellWeight        Rings\n",
              "count   4177.000000  4177.000000  ...  4177.000000  4177.000000\n",
              "mean       0.523992     0.407881  ...     0.238831     9.933684\n",
              "std        0.120093     0.099240  ...     0.139203     3.224169\n",
              "min        0.075000     0.055000  ...     0.001500     1.000000\n",
              "25%        0.450000     0.350000  ...     0.130000     8.000000\n",
              "50%        0.545000     0.425000  ...     0.234000     9.000000\n",
              "75%        0.615000     0.480000  ...     0.329000    11.000000\n",
              "max        0.815000     0.650000  ...     1.005000    29.000000\n",
              "\n",
              "[8 rows x 8 columns]"
            ]
          },
          "metadata": {
            "tags": []
          },
          "execution_count": 56
        }
      ]
    },
    {
      "cell_type": "code",
      "metadata": {
        "colab": {
          "base_uri": "https://localhost:8080/"
        },
        "id": "n_qCaQnMoI5H",
        "outputId": "5f96c07c-bcf2-4729-e83d-24d5fb2960eb"
      },
      "source": [
        "df.info()"
      ],
      "execution_count": null,
      "outputs": [
        {
          "output_type": "stream",
          "text": [
            "<class 'pandas.core.frame.DataFrame'>\n",
            "RangeIndex: 4177 entries, 0 to 4176\n",
            "Data columns (total 9 columns):\n",
            " #   Column         Non-Null Count  Dtype  \n",
            "---  ------         --------------  -----  \n",
            " 0   Type           4177 non-null   object \n",
            " 1   LongestShell   4177 non-null   float64\n",
            " 2   Diameter       4177 non-null   float64\n",
            " 3   Height         4177 non-null   float64\n",
            " 4   WholeWeight    4177 non-null   float64\n",
            " 5   ShuckedWeight  4177 non-null   float64\n",
            " 6   VisceraWeight  4177 non-null   float64\n",
            " 7   ShellWeight    4177 non-null   float64\n",
            " 8   Rings          4177 non-null   int64  \n",
            "dtypes: float64(7), int64(1), object(1)\n",
            "memory usage: 293.8+ KB\n"
          ],
          "name": "stdout"
        }
      ]
    },
    {
      "cell_type": "markdown",
      "metadata": {
        "id": "Yp7qOl6Vo84g"
      },
      "source": [
        "Nossas colunas: \r\n",
        "*   Sex / nominal / -- / M, F, and I (infant)\r\n",
        "*   Length / continuous / mm / Longest shell measurement\r\n",
        "*   Diameter / continuous / mm / perpendicular to length\r\n",
        "*   Height / continuous / mm / with meat in shell\r\n",
        "*   Whole weight / continuous / grams / whole abalone\r\n",
        "*   Shucked weight / continuous / grams / weight of meat\r\n",
        "*   Viscera weight / continuous / grams / gut weight (after bleeding)\r\n",
        "*   Shell weight / continuous / grams / after being dried\r\n",
        "*   Rings / integer / -- / +1.5 gives the age in years\r\n",
        "\r\n",
        "\r\n",
        "\r\n",
        "---\r\n",
        "\r\n",
        "\r\n",
        "Nós temos 4177 observações. N = 4177 \r\n",
        "\r\n",
        "\r\n",
        "\r\n",
        "Nossas variáveis ​​preditoras D = 'LongestShell', 'Diameter', 'Height' 'WholeWeight', 'ShuckedWeight', 'VisceraWeight', 'ShellWeight' e 'Rings'.\r\n",
        "\r\n",
        "Número de classes L = 'Sex' \r\n",
        "\r\n",
        "\r\n",
        "\r\n",
        "\r\n",
        "\r\n",
        "\r\n"
      ]
    },
    {
      "cell_type": "code",
      "metadata": {
        "colab": {
          "base_uri": "https://localhost:8080/",
          "height": 285
        },
        "id": "8VqKaN2Wskcl",
        "outputId": "1faeafdd-6730-48dc-850a-1da92901ae71"
      },
      "source": [
        "fig = plt.plot()\r\n",
        "sns_plot = sns.countplot(x='Rings', data=df)"
      ],
      "execution_count": null,
      "outputs": [
        {
          "output_type": "display_data",
          "data": {
            "image/png": "[encoded data removed]",
            "text/plain": [
              "<Figure size 432x288 with 1 Axes>"
            ]
          },
          "metadata": {
            "tags": []
          }
        }
      ]
    },
    {
      "cell_type": "code",
      "metadata": {
        "id": "Bv63qPf8ANt_"
      },
      "source": [
        "#Transformando os atributos categóricos\r\n",
        "\"\"\"\r\n",
        "Infantil - 0\r\n",
        "Masculino - 1\r\n",
        "Feminino - 2\r\n",
        "\"\"\"\r\n",
        "df.loc[df['Type'] == 'I',['Type']] = 1\r\n",
        "df.loc[df['Type'] == 'M',['Type']] = 2\r\n",
        "df.loc[df['Type'] == 'F',['Type']] = 3"
      ],
      "execution_count": null,
      "outputs": []
    },
    {
      "cell_type": "markdown",
      "metadata": {
        "id": "Jfsul0hLtgx4"
      },
      "source": [
        "# Etapa 2"
      ]
    },
    {
      "cell_type": "code",
      "metadata": {
        "colab": {
          "base_uri": "https://localhost:8080/"
        },
        "id": "pVlgSzV4ufNm",
        "outputId": "b3dd9676-d60a-44c1-e118-4f8fe5465715"
      },
      "source": [
        "df.columns"
      ],
      "execution_count": null,
      "outputs": [
        {
          "output_type": "execute_result",
          "data": {
            "text/plain": [
              "Index(['Type', 'LongestShell', 'Diameter', 'Height', 'WholeWeight',\n",
              "       'ShuckedWeight', 'VisceraWeight', 'ShellWeight', 'Rings'],\n",
              "      dtype='object')"
            ]
          },
          "metadata": {
            "tags": []
          },
          "execution_count": 9
        }
      ]
    },
    {
      "cell_type": "code",
      "metadata": {
        "colab": {
          "base_uri": "https://localhost:8080/",
          "height": 1000
        },
        "id": "oe8zHVa5BgAk",
        "outputId": "7e651b2d-c96e-48c4-a3f8-74ae34814d59"
      },
      "source": [
        "for i in df.drop(columns=['Rings']).columns:\r\n",
        "  sns.displot(df, x=i)"
      ],
      "execution_count": null,
      "outputs": [
        {
          "output_type": "display_data",
          "data": {
            "image/png": "[encoded data removed]",
            "text/plain": [
              "<Figure size 360x360 with 1 Axes>"
            ]
          },
          "metadata": {
            "tags": [],
            "needs_background": "light"
          }
        },
        {
          "output_type": "display_data",
          "data": {
            "image/png": "[encoded data removed]",
            "text/plain": [
              "<Figure size 360x360 with 1 Axes>"
            ]
          },
          "metadata": {
            "tags": [],
            "needs_background": "light"
          }
        },
        {
          "output_type": "display_data",
          "data": {
            "image/png": "[encoded data removed]",
            "text/plain": [
              "<Figure size 360x360 with 1 Axes>"
            ]
          },
          "metadata": {
            "tags": [],
            "needs_background": "light"
          }
        },
        {
          "output_type": "display_data",
          "data": {
            "image/png": "[encoded data removed]",
            "text/plain": [
              "<Figure size 360x360 with 1 Axes>"
            ]
          },
          "metadata": {
            "tags": [],
            "needs_background": "light"
          }
        },
        {
          "output_type": "display_data",
          "data": {
            "image/png": "[encoded data removed]",
            "text/plain": [
              "<Figure size 360x360 with 1 Axes>"
            ]
          },
          "metadata": {
            "tags": [],
            "needs_background": "light"
          }
        },
        {
          "output_type": "display_data",
          "data": {
            "image/png": "[encoded data removed]",
            "text/plain": [
              "<Figure size 360x360 with 1 Axes>"
            ]
          },
          "metadata": {
            "tags": [],
            "needs_background": "light"
          }
        },
        {
          "output_type": "display_data",
          "data": {
            "image/png": "[encoded data removed]",
            "text/plain": [
              "<Figure size 360x360 with 1 Axes>"
            ]
          },
          "metadata": {
            "tags": [],
            "needs_background": "light"
          }
        },
        {
          "output_type": "display_data",
          "data": {
            "image/png": "[encoded data removed]",
            "text/plain": [
              "<Figure size 360x360 with 1 Axes>"
            ]
          },
          "metadata": {
            "tags": [],
            "needs_background": "light"
          }
        }
      ]
    },
    {
      "cell_type": "code",
      "metadata": {
        "colab": {
          "base_uri": "https://localhost:8080/"
        },
        "id": "LZEwgjW0yIyd",
        "outputId": "566ed5c1-e876-4b5d-f0b4-c2650583b6ac"
      },
      "source": [
        "#Média\r\n",
        "df.drop(columns='Rings').mean()"
      ],
      "execution_count": null,
      "outputs": [
        {
          "output_type": "execute_result",
          "data": {
            "text/plain": [
              "Type             0.991621\n",
              "LongestShell     0.523992\n",
              "Diameter         0.407881\n",
              "Height           0.139516\n",
              "WholeWeight      0.828742\n",
              "ShuckedWeight    0.359367\n",
              "VisceraWeight    0.180594\n",
              "ShellWeight      0.238831\n",
              "dtype: float64"
            ]
          },
          "metadata": {
            "tags": []
          },
          "execution_count": 18
        }
      ]
    },
    {
      "cell_type": "code",
      "metadata": {
        "colab": {
          "base_uri": "https://localhost:8080/"
        },
        "id": "_ZjBWZ45ymdv",
        "outputId": "b63d18a0-26af-428d-a2cf-4037961c8a35"
      },
      "source": [
        "#Desvio Padrão\r\n",
        "df.drop(columns='Rings').std() "
      ],
      "execution_count": null,
      "outputs": [
        {
          "output_type": "execute_result",
          "data": {
            "text/plain": [
              "Type             0.796410\n",
              "LongestShell     0.120093\n",
              "Diameter         0.099240\n",
              "Height           0.041827\n",
              "WholeWeight      0.490389\n",
              "ShuckedWeight    0.221963\n",
              "VisceraWeight    0.109614\n",
              "ShellWeight      0.139203\n",
              "dtype: float64"
            ]
          },
          "metadata": {
            "tags": []
          },
          "execution_count": 19
        }
      ]
    },
    {
      "cell_type": "code",
      "metadata": {
        "colab": {
          "base_uri": "https://localhost:8080/"
        },
        "id": "nHksm_DLyzxD",
        "outputId": "ba571fc1-fb45-4fd2-f740-af65aab51e89"
      },
      "source": [
        "#Assimetria\r\n",
        "df.drop(columns='Rings').skew()"
      ],
      "execution_count": null,
      "outputs": [
        {
          "output_type": "execute_result",
          "data": {
            "text/plain": [
              "Type             0.014980\n",
              "LongestShell    -0.639873\n",
              "Diameter        -0.609198\n",
              "Height           3.128817\n",
              "WholeWeight      0.530959\n",
              "ShuckedWeight    0.719098\n",
              "VisceraWeight    0.591852\n",
              "ShellWeight      0.620927\n",
              "dtype: float64"
            ]
          },
          "metadata": {
            "tags": []
          },
          "execution_count": 20
        }
      ]
    },
    {
      "cell_type": "markdown",
      "metadata": {
        "id": "bBDPYWSZEggm"
      },
      "source": [
        "# Parte 2"
      ]
    },
    {
      "cell_type": "code",
      "metadata": {
        "colab": {
          "base_uri": "https://localhost:8080/",
          "height": 1000
        },
        "id": "CNr9Vg-xCJsz",
        "outputId": "0ac7bcd5-3b62-49fd-a2a7-3b0fe04cddbe"
      },
      "source": [
        "for i in df.drop(columns=['Rings']).columns:\r\n",
        "  sns.displot(df, x=i, hue=\"Rings\", element=\"step\")"
      ],
      "execution_count": null,
      "outputs": [
        {
          "output_type": "display_data",
          "data": {
            "image/png": "[encoded data removed]",
            "text/plain": [
              "<Figure size 408.75x360 with 1 Axes>"
            ]
          },
          "metadata": {
            "tags": [],
            "needs_background": "light"
          }
        },
        {
          "output_type": "display_data",
          "data": {
            "image/png": "[encoded data removed]",
            "text/plain": [
              "<Figure size 408.75x360 with 1 Axes>"
            ]
          },
          "metadata": {
            "tags": [],
            "needs_background": "light"
          }
        },
        {
          "output_type": "display_data",
          "data": {
            "image/png": "[encoded data removed]",
            "text/plain": [
              "<Figure size 408.75x360 with 1 Axes>"
            ]
          },
          "metadata": {
            "tags": [],
            "needs_background": "light"
          }
        },
        {
          "output_type": "display_data",
          "data": {
            "image/png": "[encoded data removed]",
            "text/plain": [
              "<Figure size 408.75x360 with 1 Axes>"
            ]
          },
          "metadata": {
            "tags": [],
            "needs_background": "light"
          }
        },
        {
          "output_type": "display_data",
          "data": {
            "image/png": "[encoded data removed]",
            "text/plain": [
              "<Figure size 408.75x360 with 1 Axes>"
            ]
          },
          "metadata": {
            "tags": [],
            "needs_background": "light"
          }
        },
        {
          "output_type": "display_data",
          "data": {
            "image/png": "[encoded data removed]",
            "text/plain": [
              "<Figure size 408.75x360 with 1 Axes>"
            ]
          },
          "metadata": {
            "tags": [],
            "needs_background": "light"
          }
        },
        {
          "output_type": "display_data",
          "data": {
            "image/png": "[encoded data removed]",
            "text/plain": [
              "<Figure size 408.75x360 with 1 Axes>"
            ]
          },
          "metadata": {
            "tags": [],
            "needs_background": "light"
          }
        },
        {
          "output_type": "display_data",
          "data": {
            "image/png": "[encoded data removed]",
            "text/plain": [
              "<Figure size 408.75x360 with 1 Axes>"
            ]
          },
          "metadata": {
            "tags": [],
            "needs_background": "light"
          }
        }
      ]
    },
    {
      "cell_type": "code",
      "metadata": {
        "colab": {
          "base_uri": "https://localhost:8080/",
          "height": 948
        },
        "id": "uREi6OcmLmn4",
        "outputId": "8481ec3c-0308-4e63-c436-b6b01f8e8303"
      },
      "source": [
        "df.groupby('Rings').mean()"
      ],
      "execution_count": null,
      "outputs": [
        {
          "output_type": "execute_result",
          "data": {
            "text/html": [
              "<div>\n",
              "<style scoped>\n",
              "    .dataframe tbody tr th:only-of-type {\n",
              "        vertical-align: middle;\n",
              "    }\n",
              "\n",
              "    .dataframe tbody tr th {\n",
              "        vertical-align: top;\n",
              "    }\n",
              "\n",
              "    .dataframe thead th {\n",
              "        text-align: right;\n",
              "    }\n",
              "</style>\n",
              "<table border=\"1\" class=\"dataframe\">\n",
              "  <thead>\n",
              "    <tr style=\"text-align: right;\">\n",
              "      <th></th>\n",
              "      <th>LongestShell</th>\n",
              "      <th>Diameter</th>\n",
              "      <th>Height</th>\n",
              "      <th>WholeWeight</th>\n",
              "      <th>ShuckedWeight</th>\n",
              "      <th>VisceraWeight</th>\n",
              "      <th>ShellWeight</th>\n",
              "    </tr>\n",
              "    <tr>\n",
              "      <th>Rings</th>\n",
              "      <th></th>\n",
              "      <th></th>\n",
              "      <th></th>\n",
              "      <th></th>\n",
              "      <th></th>\n",
              "      <th></th>\n",
              "      <th></th>\n",
              "    </tr>\n",
              "  </thead>\n",
              "  <tbody>\n",
              "    <tr>\n",
              "      <th>1</th>\n",
              "      <td>0.075000</td>\n",
              "      <td>0.055000</td>\n",
              "      <td>0.010000</td>\n",
              "      <td>0.002000</td>\n",
              "      <td>0.001000</td>\n",
              "      <td>0.000500</td>\n",
              "      <td>0.001500</td>\n",
              "    </tr>\n",
              "    <tr>\n",
              "      <th>2</th>\n",
              "      <td>0.150000</td>\n",
              "      <td>0.100000</td>\n",
              "      <td>0.025000</td>\n",
              "      <td>0.015000</td>\n",
              "      <td>0.004500</td>\n",
              "      <td>0.004000</td>\n",
              "      <td>0.005000</td>\n",
              "    </tr>\n",
              "    <tr>\n",
              "      <th>3</th>\n",
              "      <td>0.176000</td>\n",
              "      <td>0.128667</td>\n",
              "      <td>0.041667</td>\n",
              "      <td>0.028400</td>\n",
              "      <td>0.011767</td>\n",
              "      <td>0.006267</td>\n",
              "      <td>0.008933</td>\n",
              "    </tr>\n",
              "    <tr>\n",
              "      <th>4</th>\n",
              "      <td>0.221491</td>\n",
              "      <td>0.161579</td>\n",
              "      <td>0.053947</td>\n",
              "      <td>0.059605</td>\n",
              "      <td>0.024719</td>\n",
              "      <td>0.012956</td>\n",
              "      <td>0.018000</td>\n",
              "    </tr>\n",
              "    <tr>\n",
              "      <th>5</th>\n",
              "      <td>0.285739</td>\n",
              "      <td>0.210696</td>\n",
              "      <td>0.069913</td>\n",
              "      <td>0.125500</td>\n",
              "      <td>0.061696</td>\n",
              "      <td>0.027330</td>\n",
              "      <td>0.036770</td>\n",
              "    </tr>\n",
              "    <tr>\n",
              "      <th>6</th>\n",
              "      <td>0.369363</td>\n",
              "      <td>0.278861</td>\n",
              "      <td>0.091776</td>\n",
              "      <td>0.273174</td>\n",
              "      <td>0.123158</td>\n",
              "      <td>0.058371</td>\n",
              "      <td>0.078388</td>\n",
              "    </tr>\n",
              "    <tr>\n",
              "      <th>7</th>\n",
              "      <td>0.422033</td>\n",
              "      <td>0.321535</td>\n",
              "      <td>0.105921</td>\n",
              "      <td>0.397386</td>\n",
              "      <td>0.182657</td>\n",
              "      <td>0.085899</td>\n",
              "      <td>0.111648</td>\n",
              "    </tr>\n",
              "    <tr>\n",
              "      <th>8</th>\n",
              "      <td>0.498776</td>\n",
              "      <td>0.384798</td>\n",
              "      <td>0.128556</td>\n",
              "      <td>0.640753</td>\n",
              "      <td>0.293773</td>\n",
              "      <td>0.138502</td>\n",
              "      <td>0.178609</td>\n",
              "    </tr>\n",
              "    <tr>\n",
              "      <th>9</th>\n",
              "      <td>0.546865</td>\n",
              "      <td>0.425218</td>\n",
              "      <td>0.142721</td>\n",
              "      <td>0.852013</td>\n",
              "      <td>0.387938</td>\n",
              "      <td>0.187803</td>\n",
              "      <td>0.236509</td>\n",
              "    </tr>\n",
              "    <tr>\n",
              "      <th>10</th>\n",
              "      <td>0.574629</td>\n",
              "      <td>0.449290</td>\n",
              "      <td>0.154093</td>\n",
              "      <td>1.008748</td>\n",
              "      <td>0.447217</td>\n",
              "      <td>0.223128</td>\n",
              "      <td>0.282976</td>\n",
              "    </tr>\n",
              "    <tr>\n",
              "      <th>11</th>\n",
              "      <td>0.599374</td>\n",
              "      <td>0.470595</td>\n",
              "      <td>0.161253</td>\n",
              "      <td>1.142559</td>\n",
              "      <td>0.503977</td>\n",
              "      <td>0.252393</td>\n",
              "      <td>0.319866</td>\n",
              "    </tr>\n",
              "    <tr>\n",
              "      <th>12</th>\n",
              "      <td>0.589457</td>\n",
              "      <td>0.462434</td>\n",
              "      <td>0.161292</td>\n",
              "      <td>1.102904</td>\n",
              "      <td>0.472781</td>\n",
              "      <td>0.239575</td>\n",
              "      <td>0.321157</td>\n",
              "    </tr>\n",
              "    <tr>\n",
              "      <th>13</th>\n",
              "      <td>0.578892</td>\n",
              "      <td>0.456453</td>\n",
              "      <td>0.160887</td>\n",
              "      <td>1.075453</td>\n",
              "      <td>0.434638</td>\n",
              "      <td>0.235421</td>\n",
              "      <td>0.320828</td>\n",
              "    </tr>\n",
              "    <tr>\n",
              "      <th>14</th>\n",
              "      <td>0.580198</td>\n",
              "      <td>0.458294</td>\n",
              "      <td>0.163571</td>\n",
              "      <td>1.079992</td>\n",
              "      <td>0.427190</td>\n",
              "      <td>0.235258</td>\n",
              "      <td>0.329960</td>\n",
              "    </tr>\n",
              "    <tr>\n",
              "      <th>15</th>\n",
              "      <td>0.575728</td>\n",
              "      <td>0.456262</td>\n",
              "      <td>0.161359</td>\n",
              "      <td>1.040951</td>\n",
              "      <td>0.402471</td>\n",
              "      <td>0.227539</td>\n",
              "      <td>0.321650</td>\n",
              "    </tr>\n",
              "    <tr>\n",
              "      <th>16</th>\n",
              "      <td>0.587537</td>\n",
              "      <td>0.468433</td>\n",
              "      <td>0.171866</td>\n",
              "      <td>1.133388</td>\n",
              "      <td>0.421716</td>\n",
              "      <td>0.239769</td>\n",
              "      <td>0.377858</td>\n",
              "    </tr>\n",
              "    <tr>\n",
              "      <th>17</th>\n",
              "      <td>0.601034</td>\n",
              "      <td>0.475345</td>\n",
              "      <td>0.173966</td>\n",
              "      <td>1.234328</td>\n",
              "      <td>0.467052</td>\n",
              "      <td>0.251233</td>\n",
              "      <td>0.393414</td>\n",
              "    </tr>\n",
              "    <tr>\n",
              "      <th>18</th>\n",
              "      <td>0.596071</td>\n",
              "      <td>0.471310</td>\n",
              "      <td>0.171548</td>\n",
              "      <td>1.194333</td>\n",
              "      <td>0.446833</td>\n",
              "      <td>0.242762</td>\n",
              "      <td>0.386762</td>\n",
              "    </tr>\n",
              "    <tr>\n",
              "      <th>19</th>\n",
              "      <td>0.595625</td>\n",
              "      <td>0.470781</td>\n",
              "      <td>0.170313</td>\n",
              "      <td>1.166797</td>\n",
              "      <td>0.440625</td>\n",
              "      <td>0.248859</td>\n",
              "      <td>0.365312</td>\n",
              "    </tr>\n",
              "    <tr>\n",
              "      <th>20</th>\n",
              "      <td>0.603654</td>\n",
              "      <td>0.482308</td>\n",
              "      <td>0.173846</td>\n",
              "      <td>1.251750</td>\n",
              "      <td>0.458115</td>\n",
              "      <td>0.251135</td>\n",
              "      <td>0.425885</td>\n",
              "    </tr>\n",
              "    <tr>\n",
              "      <th>21</th>\n",
              "      <td>0.618214</td>\n",
              "      <td>0.485357</td>\n",
              "      <td>0.171071</td>\n",
              "      <td>1.250607</td>\n",
              "      <td>0.447464</td>\n",
              "      <td>0.246607</td>\n",
              "      <td>0.444643</td>\n",
              "    </tr>\n",
              "    <tr>\n",
              "      <th>22</th>\n",
              "      <td>0.595000</td>\n",
              "      <td>0.472500</td>\n",
              "      <td>0.189167</td>\n",
              "      <td>1.221250</td>\n",
              "      <td>0.405000</td>\n",
              "      <td>0.217167</td>\n",
              "      <td>0.390000</td>\n",
              "    </tr>\n",
              "    <tr>\n",
              "      <th>23</th>\n",
              "      <td>0.587222</td>\n",
              "      <td>0.463889</td>\n",
              "      <td>0.172778</td>\n",
              "      <td>1.170389</td>\n",
              "      <td>0.399444</td>\n",
              "      <td>0.254833</td>\n",
              "      <td>0.370556</td>\n",
              "    </tr>\n",
              "    <tr>\n",
              "      <th>24</th>\n",
              "      <td>0.695000</td>\n",
              "      <td>0.540000</td>\n",
              "      <td>0.200000</td>\n",
              "      <td>1.798750</td>\n",
              "      <td>0.600250</td>\n",
              "      <td>0.332750</td>\n",
              "      <td>0.632500</td>\n",
              "    </tr>\n",
              "    <tr>\n",
              "      <th>25</th>\n",
              "      <td>0.645000</td>\n",
              "      <td>0.490000</td>\n",
              "      <td>0.215000</td>\n",
              "      <td>1.406000</td>\n",
              "      <td>0.426500</td>\n",
              "      <td>0.228500</td>\n",
              "      <td>0.510000</td>\n",
              "    </tr>\n",
              "    <tr>\n",
              "      <th>26</th>\n",
              "      <td>0.600000</td>\n",
              "      <td>0.495000</td>\n",
              "      <td>0.195000</td>\n",
              "      <td>1.057500</td>\n",
              "      <td>0.384000</td>\n",
              "      <td>0.190000</td>\n",
              "      <td>0.375000</td>\n",
              "    </tr>\n",
              "    <tr>\n",
              "      <th>27</th>\n",
              "      <td>0.607500</td>\n",
              "      <td>0.500000</td>\n",
              "      <td>0.202500</td>\n",
              "      <td>1.698000</td>\n",
              "      <td>0.539000</td>\n",
              "      <td>0.298000</td>\n",
              "      <td>0.705000</td>\n",
              "    </tr>\n",
              "    <tr>\n",
              "      <th>29</th>\n",
              "      <td>0.700000</td>\n",
              "      <td>0.585000</td>\n",
              "      <td>0.185000</td>\n",
              "      <td>1.807500</td>\n",
              "      <td>0.705500</td>\n",
              "      <td>0.321500</td>\n",
              "      <td>0.475000</td>\n",
              "    </tr>\n",
              "  </tbody>\n",
              "</table>\n",
              "</div>"
            ],
            "text/plain": [
              "       LongestShell  Diameter  ...  VisceraWeight  ShellWeight\n",
              "Rings                          ...                            \n",
              "1          0.075000  0.055000  ...       0.000500     0.001500\n",
              "2          0.150000  0.100000  ...       0.004000     0.005000\n",
              "3          0.176000  0.128667  ...       0.006267     0.008933\n",
              "4          0.221491  0.161579  ...       0.012956     0.018000\n",
              "5          0.285739  0.210696  ...       0.027330     0.036770\n",
              "6          0.369363  0.278861  ...       0.058371     0.078388\n",
              "7          0.422033  0.321535  ...       0.085899     0.111648\n",
              "8          0.498776  0.384798  ...       0.138502     0.178609\n",
              "9          0.546865  0.425218  ...       0.187803     0.236509\n",
              "10         0.574629  0.449290  ...       0.223128     0.282976\n",
              "11         0.599374  0.470595  ...       0.252393     0.319866\n",
              "12         0.589457  0.462434  ...       0.239575     0.321157\n",
              "13         0.578892  0.456453  ...       0.235421     0.320828\n",
              "14         0.580198  0.458294  ...       0.235258     0.329960\n",
              "15         0.575728  0.456262  ...       0.227539     0.321650\n",
              "16         0.587537  0.468433  ...       0.239769     0.377858\n",
              "17         0.601034  0.475345  ...       0.251233     0.393414\n",
              "18         0.596071  0.471310  ...       0.242762     0.386762\n",
              "19         0.595625  0.470781  ...       0.248859     0.365312\n",
              "20         0.603654  0.482308  ...       0.251135     0.425885\n",
              "21         0.618214  0.485357  ...       0.246607     0.444643\n",
              "22         0.595000  0.472500  ...       0.217167     0.390000\n",
              "23         0.587222  0.463889  ...       0.254833     0.370556\n",
              "24         0.695000  0.540000  ...       0.332750     0.632500\n",
              "25         0.645000  0.490000  ...       0.228500     0.510000\n",
              "26         0.600000  0.495000  ...       0.190000     0.375000\n",
              "27         0.607500  0.500000  ...       0.298000     0.705000\n",
              "29         0.700000  0.585000  ...       0.321500     0.475000\n",
              "\n",
              "[28 rows x 7 columns]"
            ]
          },
          "metadata": {
            "tags": []
          },
          "execution_count": 22
        }
      ]
    },
    {
      "cell_type": "code",
      "metadata": {
        "colab": {
          "base_uri": "https://localhost:8080/",
          "height": 948
        },
        "id": "uPvl1KQfQ3Bw",
        "outputId": "3c9085c0-5eea-42e6-9d6d-e2d285306b5e"
      },
      "source": [
        "#Desvio Padrão da classe em relação aos preditores\r\n",
        "df.groupby('Rings').std() "
      ],
      "execution_count": null,
      "outputs": [
        {
          "output_type": "execute_result",
          "data": {
            "text/html": [
              "<div>\n",
              "<style scoped>\n",
              "    .dataframe tbody tr th:only-of-type {\n",
              "        vertical-align: middle;\n",
              "    }\n",
              "\n",
              "    .dataframe tbody tr th {\n",
              "        vertical-align: top;\n",
              "    }\n",
              "\n",
              "    .dataframe thead th {\n",
              "        text-align: right;\n",
              "    }\n",
              "</style>\n",
              "<table border=\"1\" class=\"dataframe\">\n",
              "  <thead>\n",
              "    <tr style=\"text-align: right;\">\n",
              "      <th></th>\n",
              "      <th>LongestShell</th>\n",
              "      <th>Diameter</th>\n",
              "      <th>Height</th>\n",
              "      <th>WholeWeight</th>\n",
              "      <th>ShuckedWeight</th>\n",
              "      <th>VisceraWeight</th>\n",
              "      <th>ShellWeight</th>\n",
              "    </tr>\n",
              "    <tr>\n",
              "      <th>Rings</th>\n",
              "      <th></th>\n",
              "      <th></th>\n",
              "      <th></th>\n",
              "      <th></th>\n",
              "      <th></th>\n",
              "      <th></th>\n",
              "      <th></th>\n",
              "    </tr>\n",
              "  </thead>\n",
              "  <tbody>\n",
              "    <tr>\n",
              "      <th>1</th>\n",
              "      <td>NaN</td>\n",
              "      <td>NaN</td>\n",
              "      <td>NaN</td>\n",
              "      <td>NaN</td>\n",
              "      <td>NaN</td>\n",
              "      <td>NaN</td>\n",
              "      <td>NaN</td>\n",
              "    </tr>\n",
              "    <tr>\n",
              "      <th>2</th>\n",
              "      <td>NaN</td>\n",
              "      <td>NaN</td>\n",
              "      <td>NaN</td>\n",
              "      <td>NaN</td>\n",
              "      <td>NaN</td>\n",
              "      <td>NaN</td>\n",
              "      <td>NaN</td>\n",
              "    </tr>\n",
              "    <tr>\n",
              "      <th>3</th>\n",
              "      <td>0.034754</td>\n",
              "      <td>0.024014</td>\n",
              "      <td>0.011443</td>\n",
              "      <td>0.015851</td>\n",
              "      <td>0.007824</td>\n",
              "      <td>0.003406</td>\n",
              "      <td>0.004379</td>\n",
              "    </tr>\n",
              "    <tr>\n",
              "      <th>4</th>\n",
              "      <td>0.049839</td>\n",
              "      <td>0.038593</td>\n",
              "      <td>0.017262</td>\n",
              "      <td>0.038436</td>\n",
              "      <td>0.016766</td>\n",
              "      <td>0.008613</td>\n",
              "      <td>0.012419</td>\n",
              "    </tr>\n",
              "    <tr>\n",
              "      <th>5</th>\n",
              "      <td>0.060659</td>\n",
              "      <td>0.047327</td>\n",
              "      <td>0.017270</td>\n",
              "      <td>0.075864</td>\n",
              "      <td>0.065109</td>\n",
              "      <td>0.016693</td>\n",
              "      <td>0.020341</td>\n",
              "    </tr>\n",
              "    <tr>\n",
              "      <th>6</th>\n",
              "      <td>0.075215</td>\n",
              "      <td>0.060436</td>\n",
              "      <td>0.022346</td>\n",
              "      <td>0.179586</td>\n",
              "      <td>0.086183</td>\n",
              "      <td>0.038566</td>\n",
              "      <td>0.050190</td>\n",
              "    </tr>\n",
              "    <tr>\n",
              "      <th>7</th>\n",
              "      <td>0.076018</td>\n",
              "      <td>0.061779</td>\n",
              "      <td>0.022607</td>\n",
              "      <td>0.224239</td>\n",
              "      <td>0.111397</td>\n",
              "      <td>0.050590</td>\n",
              "      <td>0.056666</td>\n",
              "    </tr>\n",
              "    <tr>\n",
              "      <th>8</th>\n",
              "      <td>0.079221</td>\n",
              "      <td>0.064936</td>\n",
              "      <td>0.048914</td>\n",
              "      <td>0.296128</td>\n",
              "      <td>0.145127</td>\n",
              "      <td>0.067768</td>\n",
              "      <td>0.075504</td>\n",
              "    </tr>\n",
              "    <tr>\n",
              "      <th>9</th>\n",
              "      <td>0.082891</td>\n",
              "      <td>0.067655</td>\n",
              "      <td>0.026542</td>\n",
              "      <td>0.361927</td>\n",
              "      <td>0.182417</td>\n",
              "      <td>0.083849</td>\n",
              "      <td>0.091707</td>\n",
              "    </tr>\n",
              "    <tr>\n",
              "      <th>10</th>\n",
              "      <td>0.085484</td>\n",
              "      <td>0.069442</td>\n",
              "      <td>0.031161</td>\n",
              "      <td>0.416193</td>\n",
              "      <td>0.203039</td>\n",
              "      <td>0.095244</td>\n",
              "      <td>0.106811</td>\n",
              "    </tr>\n",
              "    <tr>\n",
              "      <th>11</th>\n",
              "      <td>0.086864</td>\n",
              "      <td>0.071107</td>\n",
              "      <td>0.028999</td>\n",
              "      <td>0.463825</td>\n",
              "      <td>0.230005</td>\n",
              "      <td>0.106885</td>\n",
              "      <td>0.116697</td>\n",
              "    </tr>\n",
              "    <tr>\n",
              "      <th>12</th>\n",
              "      <td>0.089453</td>\n",
              "      <td>0.072694</td>\n",
              "      <td>0.028992</td>\n",
              "      <td>0.501125</td>\n",
              "      <td>0.243883</td>\n",
              "      <td>0.113625</td>\n",
              "      <td>0.132397</td>\n",
              "    </tr>\n",
              "    <tr>\n",
              "      <th>13</th>\n",
              "      <td>0.085463</td>\n",
              "      <td>0.070016</td>\n",
              "      <td>0.030278</td>\n",
              "      <td>0.455332</td>\n",
              "      <td>0.221354</td>\n",
              "      <td>0.104066</td>\n",
              "      <td>0.116930</td>\n",
              "    </tr>\n",
              "    <tr>\n",
              "      <th>14</th>\n",
              "      <td>0.079891</td>\n",
              "      <td>0.064851</td>\n",
              "      <td>0.030632</td>\n",
              "      <td>0.453368</td>\n",
              "      <td>0.211508</td>\n",
              "      <td>0.099439</td>\n",
              "      <td>0.130170</td>\n",
              "    </tr>\n",
              "    <tr>\n",
              "      <th>15</th>\n",
              "      <td>0.069007</td>\n",
              "      <td>0.059023</td>\n",
              "      <td>0.028121</td>\n",
              "      <td>0.367289</td>\n",
              "      <td>0.146998</td>\n",
              "      <td>0.083945</td>\n",
              "      <td>0.114930</td>\n",
              "    </tr>\n",
              "    <tr>\n",
              "      <th>16</th>\n",
              "      <td>0.077172</td>\n",
              "      <td>0.065829</td>\n",
              "      <td>0.029629</td>\n",
              "      <td>0.419078</td>\n",
              "      <td>0.162029</td>\n",
              "      <td>0.090129</td>\n",
              "      <td>0.150074</td>\n",
              "    </tr>\n",
              "    <tr>\n",
              "      <th>17</th>\n",
              "      <td>0.069628</td>\n",
              "      <td>0.058519</td>\n",
              "      <td>0.030446</td>\n",
              "      <td>0.477338</td>\n",
              "      <td>0.191672</td>\n",
              "      <td>0.091264</td>\n",
              "      <td>0.161045</td>\n",
              "    </tr>\n",
              "    <tr>\n",
              "      <th>18</th>\n",
              "      <td>0.072981</td>\n",
              "      <td>0.058758</td>\n",
              "      <td>0.025024</td>\n",
              "      <td>0.418807</td>\n",
              "      <td>0.163354</td>\n",
              "      <td>0.090755</td>\n",
              "      <td>0.168441</td>\n",
              "    </tr>\n",
              "    <tr>\n",
              "      <th>19</th>\n",
              "      <td>0.067904</td>\n",
              "      <td>0.062141</td>\n",
              "      <td>0.022823</td>\n",
              "      <td>0.393139</td>\n",
              "      <td>0.182201</td>\n",
              "      <td>0.104212</td>\n",
              "      <td>0.108382</td>\n",
              "    </tr>\n",
              "    <tr>\n",
              "      <th>20</th>\n",
              "      <td>0.057438</td>\n",
              "      <td>0.053614</td>\n",
              "      <td>0.019199</td>\n",
              "      <td>0.377659</td>\n",
              "      <td>0.145878</td>\n",
              "      <td>0.094608</td>\n",
              "      <td>0.138884</td>\n",
              "    </tr>\n",
              "    <tr>\n",
              "      <th>21</th>\n",
              "      <td>0.075182</td>\n",
              "      <td>0.068654</td>\n",
              "      <td>0.028092</td>\n",
              "      <td>0.371661</td>\n",
              "      <td>0.142655</td>\n",
              "      <td>0.090079</td>\n",
              "      <td>0.158520</td>\n",
              "    </tr>\n",
              "    <tr>\n",
              "      <th>22</th>\n",
              "      <td>0.054314</td>\n",
              "      <td>0.059393</td>\n",
              "      <td>0.031212</td>\n",
              "      <td>0.535365</td>\n",
              "      <td>0.207659</td>\n",
              "      <td>0.093351</td>\n",
              "      <td>0.154467</td>\n",
              "    </tr>\n",
              "    <tr>\n",
              "      <th>23</th>\n",
              "      <td>0.102869</td>\n",
              "      <td>0.080342</td>\n",
              "      <td>0.028843</td>\n",
              "      <td>0.549511</td>\n",
              "      <td>0.213926</td>\n",
              "      <td>0.136851</td>\n",
              "      <td>0.122715</td>\n",
              "    </tr>\n",
              "    <tr>\n",
              "      <th>24</th>\n",
              "      <td>0.007071</td>\n",
              "      <td>0.000000</td>\n",
              "      <td>0.021213</td>\n",
              "      <td>0.253498</td>\n",
              "      <td>0.095106</td>\n",
              "      <td>0.028638</td>\n",
              "      <td>0.109602</td>\n",
              "    </tr>\n",
              "    <tr>\n",
              "      <th>25</th>\n",
              "      <td>NaN</td>\n",
              "      <td>NaN</td>\n",
              "      <td>NaN</td>\n",
              "      <td>NaN</td>\n",
              "      <td>NaN</td>\n",
              "      <td>NaN</td>\n",
              "      <td>NaN</td>\n",
              "    </tr>\n",
              "    <tr>\n",
              "      <th>26</th>\n",
              "      <td>NaN</td>\n",
              "      <td>NaN</td>\n",
              "      <td>NaN</td>\n",
              "      <td>NaN</td>\n",
              "      <td>NaN</td>\n",
              "      <td>NaN</td>\n",
              "      <td>NaN</td>\n",
              "    </tr>\n",
              "    <tr>\n",
              "      <th>27</th>\n",
              "      <td>0.081317</td>\n",
              "      <td>0.049497</td>\n",
              "      <td>0.031820</td>\n",
              "      <td>0.686601</td>\n",
              "      <td>0.303349</td>\n",
              "      <td>0.131522</td>\n",
              "      <td>0.254558</td>\n",
              "    </tr>\n",
              "    <tr>\n",
              "      <th>29</th>\n",
              "      <td>NaN</td>\n",
              "      <td>NaN</td>\n",
              "      <td>NaN</td>\n",
              "      <td>NaN</td>\n",
              "      <td>NaN</td>\n",
              "      <td>NaN</td>\n",
              "      <td>NaN</td>\n",
              "    </tr>\n",
              "  </tbody>\n",
              "</table>\n",
              "</div>"
            ],
            "text/plain": [
              "       LongestShell  Diameter  ...  VisceraWeight  ShellWeight\n",
              "Rings                          ...                            \n",
              "1               NaN       NaN  ...            NaN          NaN\n",
              "2               NaN       NaN  ...            NaN          NaN\n",
              "3          0.034754  0.024014  ...       0.003406     0.004379\n",
              "4          0.049839  0.038593  ...       0.008613     0.012419\n",
              "5          0.060659  0.047327  ...       0.016693     0.020341\n",
              "6          0.075215  0.060436  ...       0.038566     0.050190\n",
              "7          0.076018  0.061779  ...       0.050590     0.056666\n",
              "8          0.079221  0.064936  ...       0.067768     0.075504\n",
              "9          0.082891  0.067655  ...       0.083849     0.091707\n",
              "10         0.085484  0.069442  ...       0.095244     0.106811\n",
              "11         0.086864  0.071107  ...       0.106885     0.116697\n",
              "12         0.089453  0.072694  ...       0.113625     0.132397\n",
              "13         0.085463  0.070016  ...       0.104066     0.116930\n",
              "14         0.079891  0.064851  ...       0.099439     0.130170\n",
              "15         0.069007  0.059023  ...       0.083945     0.114930\n",
              "16         0.077172  0.065829  ...       0.090129     0.150074\n",
              "17         0.069628  0.058519  ...       0.091264     0.161045\n",
              "18         0.072981  0.058758  ...       0.090755     0.168441\n",
              "19         0.067904  0.062141  ...       0.104212     0.108382\n",
              "20         0.057438  0.053614  ...       0.094608     0.138884\n",
              "21         0.075182  0.068654  ...       0.090079     0.158520\n",
              "22         0.054314  0.059393  ...       0.093351     0.154467\n",
              "23         0.102869  0.080342  ...       0.136851     0.122715\n",
              "24         0.007071  0.000000  ...       0.028638     0.109602\n",
              "25              NaN       NaN  ...            NaN          NaN\n",
              "26              NaN       NaN  ...            NaN          NaN\n",
              "27         0.081317  0.049497  ...       0.131522     0.254558\n",
              "29              NaN       NaN  ...            NaN          NaN\n",
              "\n",
              "[28 rows x 7 columns]"
            ]
          },
          "metadata": {
            "tags": []
          },
          "execution_count": 23
        }
      ]
    },
    {
      "cell_type": "code",
      "metadata": {
        "colab": {
          "base_uri": "https://localhost:8080/",
          "height": 948
        },
        "id": "bde5uqBNRJLW",
        "outputId": "15bdba94-e57f-466e-9f07-66323abbeb1d"
      },
      "source": [
        "#Assimetria\r\n",
        "df.groupby('Rings').skew()"
      ],
      "execution_count": null,
      "outputs": [
        {
          "output_type": "execute_result",
          "data": {
            "text/html": [
              "<div>\n",
              "<style scoped>\n",
              "    .dataframe tbody tr th:only-of-type {\n",
              "        vertical-align: middle;\n",
              "    }\n",
              "\n",
              "    .dataframe tbody tr th {\n",
              "        vertical-align: top;\n",
              "    }\n",
              "\n",
              "    .dataframe thead th {\n",
              "        text-align: right;\n",
              "    }\n",
              "</style>\n",
              "<table border=\"1\" class=\"dataframe\">\n",
              "  <thead>\n",
              "    <tr style=\"text-align: right;\">\n",
              "      <th></th>\n",
              "      <th>Type</th>\n",
              "      <th>LongestShell</th>\n",
              "      <th>Diameter</th>\n",
              "      <th>Height</th>\n",
              "      <th>WholeWeight</th>\n",
              "      <th>ShuckedWeight</th>\n",
              "      <th>VisceraWeight</th>\n",
              "      <th>ShellWeight</th>\n",
              "    </tr>\n",
              "    <tr>\n",
              "      <th>Rings</th>\n",
              "      <th></th>\n",
              "      <th></th>\n",
              "      <th></th>\n",
              "      <th></th>\n",
              "      <th></th>\n",
              "      <th></th>\n",
              "      <th></th>\n",
              "      <th></th>\n",
              "    </tr>\n",
              "  </thead>\n",
              "  <tbody>\n",
              "    <tr>\n",
              "      <th>1</th>\n",
              "      <td>NaN</td>\n",
              "      <td>NaN</td>\n",
              "      <td>NaN</td>\n",
              "      <td>NaN</td>\n",
              "      <td>NaN</td>\n",
              "      <td>NaN</td>\n",
              "      <td>NaN</td>\n",
              "      <td>NaN</td>\n",
              "    </tr>\n",
              "    <tr>\n",
              "      <th>2</th>\n",
              "      <td>NaN</td>\n",
              "      <td>NaN</td>\n",
              "      <td>NaN</td>\n",
              "      <td>NaN</td>\n",
              "      <td>NaN</td>\n",
              "      <td>NaN</td>\n",
              "      <td>NaN</td>\n",
              "      <td>NaN</td>\n",
              "    </tr>\n",
              "    <tr>\n",
              "      <th>3</th>\n",
              "      <td>1.672082</td>\n",
              "      <td>-0.103311</td>\n",
              "      <td>0.234069</td>\n",
              "      <td>0.310130</td>\n",
              "      <td>1.018614</td>\n",
              "      <td>1.225454</td>\n",
              "      <td>0.744023</td>\n",
              "      <td>0.210016</td>\n",
              "    </tr>\n",
              "    <tr>\n",
              "      <th>4</th>\n",
              "      <td>2.642534</td>\n",
              "      <td>0.397116</td>\n",
              "      <td>0.463112</td>\n",
              "      <td>0.103481</td>\n",
              "      <td>1.248144</td>\n",
              "      <td>1.300660</td>\n",
              "      <td>0.979503</td>\n",
              "      <td>1.402885</td>\n",
              "    </tr>\n",
              "    <tr>\n",
              "      <th>5</th>\n",
              "      <td>2.857848</td>\n",
              "      <td>0.205686</td>\n",
              "      <td>0.325723</td>\n",
              "      <td>-0.169655</td>\n",
              "      <td>1.174446</td>\n",
              "      <td>4.425203</td>\n",
              "      <td>1.223094</td>\n",
              "      <td>0.983507</td>\n",
              "    </tr>\n",
              "    <tr>\n",
              "      <th>6</th>\n",
              "      <td>2.344592</td>\n",
              "      <td>0.346553</td>\n",
              "      <td>0.432976</td>\n",
              "      <td>0.417476</td>\n",
              "      <td>2.160383</td>\n",
              "      <td>2.045093</td>\n",
              "      <td>2.149837</td>\n",
              "      <td>2.441079</td>\n",
              "    </tr>\n",
              "    <tr>\n",
              "      <th>7</th>\n",
              "      <td>1.306622</td>\n",
              "      <td>0.221603</td>\n",
              "      <td>0.226548</td>\n",
              "      <td>0.534282</td>\n",
              "      <td>1.322841</td>\n",
              "      <td>1.348959</td>\n",
              "      <td>1.426389</td>\n",
              "      <td>1.446208</td>\n",
              "    </tr>\n",
              "    <tr>\n",
              "      <th>8</th>\n",
              "      <td>0.514265</td>\n",
              "      <td>-0.248867</td>\n",
              "      <td>-0.260390</td>\n",
              "      <td>15.144290</td>\n",
              "      <td>0.566910</td>\n",
              "      <td>0.591071</td>\n",
              "      <td>0.657443</td>\n",
              "      <td>0.568420</td>\n",
              "    </tr>\n",
              "    <tr>\n",
              "      <th>9</th>\n",
              "      <td>-0.161986</td>\n",
              "      <td>-0.629872</td>\n",
              "      <td>-0.629448</td>\n",
              "      <td>-0.219201</td>\n",
              "      <td>0.329577</td>\n",
              "      <td>0.521533</td>\n",
              "      <td>0.447700</td>\n",
              "      <td>0.280602</td>\n",
              "    </tr>\n",
              "    <tr>\n",
              "      <th>10</th>\n",
              "      <td>-0.366616</td>\n",
              "      <td>-0.731297</td>\n",
              "      <td>-0.714462</td>\n",
              "      <td>2.238201</td>\n",
              "      <td>0.272629</td>\n",
              "      <td>0.459582</td>\n",
              "      <td>0.284866</td>\n",
              "      <td>0.171910</td>\n",
              "    </tr>\n",
              "    <tr>\n",
              "      <th>11</th>\n",
              "      <td>-0.416183</td>\n",
              "      <td>-0.730089</td>\n",
              "      <td>-0.724385</td>\n",
              "      <td>-0.300477</td>\n",
              "      <td>0.203737</td>\n",
              "      <td>0.445266</td>\n",
              "      <td>0.279879</td>\n",
              "      <td>0.119630</td>\n",
              "    </tr>\n",
              "    <tr>\n",
              "      <th>12</th>\n",
              "      <td>-0.567698</td>\n",
              "      <td>-0.274073</td>\n",
              "      <td>-0.289389</td>\n",
              "      <td>-0.064917</td>\n",
              "      <td>0.652492</td>\n",
              "      <td>0.825757</td>\n",
              "      <td>0.900968</td>\n",
              "      <td>0.507857</td>\n",
              "    </tr>\n",
              "    <tr>\n",
              "      <th>13</th>\n",
              "      <td>-0.476495</td>\n",
              "      <td>-0.214973</td>\n",
              "      <td>-0.212143</td>\n",
              "      <td>0.035930</td>\n",
              "      <td>0.519573</td>\n",
              "      <td>1.046880</td>\n",
              "      <td>0.620533</td>\n",
              "      <td>0.191651</td>\n",
              "    </tr>\n",
              "    <tr>\n",
              "      <th>14</th>\n",
              "      <td>-0.506044</td>\n",
              "      <td>0.157225</td>\n",
              "      <td>0.112994</td>\n",
              "      <td>0.577939</td>\n",
              "      <td>0.959050</td>\n",
              "      <td>1.401440</td>\n",
              "      <td>0.712537</td>\n",
              "      <td>1.056245</td>\n",
              "    </tr>\n",
              "    <tr>\n",
              "      <th>15</th>\n",
              "      <td>-0.361163</td>\n",
              "      <td>-0.105567</td>\n",
              "      <td>-0.004189</td>\n",
              "      <td>0.279469</td>\n",
              "      <td>0.361498</td>\n",
              "      <td>0.341426</td>\n",
              "      <td>0.683439</td>\n",
              "      <td>0.534423</td>\n",
              "    </tr>\n",
              "    <tr>\n",
              "      <th>16</th>\n",
              "      <td>-0.516456</td>\n",
              "      <td>-0.347013</td>\n",
              "      <td>-0.317324</td>\n",
              "      <td>0.117613</td>\n",
              "      <td>0.367673</td>\n",
              "      <td>0.474785</td>\n",
              "      <td>0.282322</td>\n",
              "      <td>0.587965</td>\n",
              "    </tr>\n",
              "    <tr>\n",
              "      <th>17</th>\n",
              "      <td>-0.527862</td>\n",
              "      <td>0.414838</td>\n",
              "      <td>0.275178</td>\n",
              "      <td>-0.080770</td>\n",
              "      <td>1.116183</td>\n",
              "      <td>1.196443</td>\n",
              "      <td>0.837938</td>\n",
              "      <td>1.298293</td>\n",
              "    </tr>\n",
              "    <tr>\n",
              "      <th>18</th>\n",
              "      <td>-0.544842</td>\n",
              "      <td>-0.234730</td>\n",
              "      <td>-0.631596</td>\n",
              "      <td>-0.017133</td>\n",
              "      <td>0.155589</td>\n",
              "      <td>0.112659</td>\n",
              "      <td>-0.028447</td>\n",
              "      <td>1.550167</td>\n",
              "    </tr>\n",
              "    <tr>\n",
              "      <th>19</th>\n",
              "      <td>-0.507452</td>\n",
              "      <td>0.045771</td>\n",
              "      <td>0.101066</td>\n",
              "      <td>0.386741</td>\n",
              "      <td>0.492167</td>\n",
              "      <td>0.799862</td>\n",
              "      <td>0.721356</td>\n",
              "      <td>0.493621</td>\n",
              "    </tr>\n",
              "    <tr>\n",
              "      <th>20</th>\n",
              "      <td>-0.534925</td>\n",
              "      <td>0.250408</td>\n",
              "      <td>0.301196</td>\n",
              "      <td>0.163418</td>\n",
              "      <td>0.928131</td>\n",
              "      <td>0.517466</td>\n",
              "      <td>1.133321</td>\n",
              "      <td>1.134968</td>\n",
              "    </tr>\n",
              "    <tr>\n",
              "      <th>21</th>\n",
              "      <td>-0.692300</td>\n",
              "      <td>-0.571760</td>\n",
              "      <td>-0.305844</td>\n",
              "      <td>0.077453</td>\n",
              "      <td>-0.383463</td>\n",
              "      <td>-0.559671</td>\n",
              "      <td>0.088132</td>\n",
              "      <td>-0.205239</td>\n",
              "    </tr>\n",
              "    <tr>\n",
              "      <th>22</th>\n",
              "      <td>0.000000</td>\n",
              "      <td>-0.400216</td>\n",
              "      <td>-0.193310</td>\n",
              "      <td>-0.739453</td>\n",
              "      <td>0.159747</td>\n",
              "      <td>0.668489</td>\n",
              "      <td>-0.023249</td>\n",
              "      <td>0.355304</td>\n",
              "    </tr>\n",
              "    <tr>\n",
              "      <th>23</th>\n",
              "      <td>-0.857143</td>\n",
              "      <td>0.865585</td>\n",
              "      <td>1.031552</td>\n",
              "      <td>0.626010</td>\n",
              "      <td>2.214670</td>\n",
              "      <td>2.305676</td>\n",
              "      <td>2.157582</td>\n",
              "      <td>0.992638</td>\n",
              "    </tr>\n",
              "    <tr>\n",
              "      <th>24</th>\n",
              "      <td>NaN</td>\n",
              "      <td>NaN</td>\n",
              "      <td>NaN</td>\n",
              "      <td>NaN</td>\n",
              "      <td>NaN</td>\n",
              "      <td>NaN</td>\n",
              "      <td>NaN</td>\n",
              "      <td>NaN</td>\n",
              "    </tr>\n",
              "    <tr>\n",
              "      <th>25</th>\n",
              "      <td>NaN</td>\n",
              "      <td>NaN</td>\n",
              "      <td>NaN</td>\n",
              "      <td>NaN</td>\n",
              "      <td>NaN</td>\n",
              "      <td>NaN</td>\n",
              "      <td>NaN</td>\n",
              "      <td>NaN</td>\n",
              "    </tr>\n",
              "    <tr>\n",
              "      <th>26</th>\n",
              "      <td>NaN</td>\n",
              "      <td>NaN</td>\n",
              "      <td>NaN</td>\n",
              "      <td>NaN</td>\n",
              "      <td>NaN</td>\n",
              "      <td>NaN</td>\n",
              "      <td>NaN</td>\n",
              "      <td>NaN</td>\n",
              "    </tr>\n",
              "    <tr>\n",
              "      <th>27</th>\n",
              "      <td>NaN</td>\n",
              "      <td>NaN</td>\n",
              "      <td>NaN</td>\n",
              "      <td>NaN</td>\n",
              "      <td>NaN</td>\n",
              "      <td>NaN</td>\n",
              "      <td>NaN</td>\n",
              "      <td>NaN</td>\n",
              "    </tr>\n",
              "    <tr>\n",
              "      <th>29</th>\n",
              "      <td>NaN</td>\n",
              "      <td>NaN</td>\n",
              "      <td>NaN</td>\n",
              "      <td>NaN</td>\n",
              "      <td>NaN</td>\n",
              "      <td>NaN</td>\n",
              "      <td>NaN</td>\n",
              "      <td>NaN</td>\n",
              "    </tr>\n",
              "  </tbody>\n",
              "</table>\n",
              "</div>"
            ],
            "text/plain": [
              "           Type  LongestShell  ...  VisceraWeight  ShellWeight\n",
              "Rings                          ...                            \n",
              "1           NaN           NaN  ...            NaN          NaN\n",
              "2           NaN           NaN  ...            NaN          NaN\n",
              "3      1.672082     -0.103311  ...       0.744023     0.210016\n",
              "4      2.642534      0.397116  ...       0.979503     1.402885\n",
              "5      2.857848      0.205686  ...       1.223094     0.983507\n",
              "6      2.344592      0.346553  ...       2.149837     2.441079\n",
              "7      1.306622      0.221603  ...       1.426389     1.446208\n",
              "8      0.514265     -0.248867  ...       0.657443     0.568420\n",
              "9     -0.161986     -0.629872  ...       0.447700     0.280602\n",
              "10    -0.366616     -0.731297  ...       0.284866     0.171910\n",
              "11    -0.416183     -0.730089  ...       0.279879     0.119630\n",
              "12    -0.567698     -0.274073  ...       0.900968     0.507857\n",
              "13    -0.476495     -0.214973  ...       0.620533     0.191651\n",
              "14    -0.506044      0.157225  ...       0.712537     1.056245\n",
              "15    -0.361163     -0.105567  ...       0.683439     0.534423\n",
              "16    -0.516456     -0.347013  ...       0.282322     0.587965\n",
              "17    -0.527862      0.414838  ...       0.837938     1.298293\n",
              "18    -0.544842     -0.234730  ...      -0.028447     1.550167\n",
              "19    -0.507452      0.045771  ...       0.721356     0.493621\n",
              "20    -0.534925      0.250408  ...       1.133321     1.134968\n",
              "21    -0.692300     -0.571760  ...       0.088132    -0.205239\n",
              "22     0.000000     -0.400216  ...      -0.023249     0.355304\n",
              "23    -0.857143      0.865585  ...       2.157582     0.992638\n",
              "24          NaN           NaN  ...            NaN          NaN\n",
              "25          NaN           NaN  ...            NaN          NaN\n",
              "26          NaN           NaN  ...            NaN          NaN\n",
              "27          NaN           NaN  ...            NaN          NaN\n",
              "29          NaN           NaN  ...            NaN          NaN\n",
              "\n",
              "[28 rows x 8 columns]"
            ]
          },
          "metadata": {
            "tags": []
          },
          "execution_count": 24
        }
      ]
    },
    {
      "cell_type": "code",
      "metadata": {
        "colab": {
          "base_uri": "https://localhost:8080/",
          "height": 354
        },
        "id": "jdTkcyKo2mAZ",
        "outputId": "cc907d1c-a60d-4a08-8157-640e363c332c"
      },
      "source": [
        "corr = df.drop(columns='Rings').corr()\r\n",
        "\r\n",
        "# plot the heatmap\r\n",
        "sns.heatmap(corr, xticklabels=corr.columns, yticklabels=corr.columns)"
      ],
      "execution_count": null,
      "outputs": [
        {
          "output_type": "execute_result",
          "data": {
            "text/plain": [
              "<matplotlib.axes._subplots.AxesSubplot at 0x7f53c4adf710>"
            ]
          },
          "metadata": {
            "tags": []
          },
          "execution_count": 25
        },
        {
          "output_type": "display_data",
          "data": {
            "image/png": "[encoded data removed]",
            "text/plain": [
              "<Figure size 432x288 with 2 Axes>"
            ]
          },
          "metadata": {
            "tags": [],
            "needs_background": "light"
          }
        }
      ]
    },
    {
      "cell_type": "code",
      "metadata": {
        "colab": {
          "base_uri": "https://localhost:8080/",
          "height": 260
        },
        "id": "VVUutgAN9pbU",
        "outputId": "99feb11a-2009-4a96-ec14-0ea84f940600"
      },
      "source": [
        "cmap=sns.diverging_palette(5, 250, as_cmap=True)\r\n",
        "\r\n",
        "def magnify():\r\n",
        "    return [dict(selector=\"th\",\r\n",
        "                 props=[(\"font-size\", \"15pt\")]),\r\n",
        "            dict(selector=\"td\",\r\n",
        "                 props=[('padding', \"0em 0em\")]),\r\n",
        "            dict(selector=\"th:hover\",\r\n",
        "                 props=[(\"font-size\", \"15pt\")]),\r\n",
        "            dict(selector=\"tr:hover td:hover\",\r\n",
        "                 props=[('max-width', '200px'),\r\n",
        "                        ('font-size', '15pt')])\r\n",
        "]\r\n",
        "\r\n",
        "corr.style.background_gradient(cmap, axis=1)\\\r\n",
        "    .set_properties(**{'max-width': '100px', 'font-size': '15pt'})\\\r\n",
        "    .set_caption(\"Matriz de Correlação\")\\\r\n",
        "    .set_precision(2)\\\r\n",
        "    .set_table_styles(magnify())"
      ],
      "execution_count": null,
      "outputs": [
        {
          "output_type": "execute_result",
          "data": {
            "text/html": [
              "<style  type=\"text/css\" >\n",
              "    #T_08a2bf28_7600_11eb_8b12_0242ac1c0002 th {\n",
              "          font-size: 15pt;\n",
              "    }    #T_08a2bf28_7600_11eb_8b12_0242ac1c0002 td {\n",
              "          padding: 0em 0em;\n",
              "    }    #T_08a2bf28_7600_11eb_8b12_0242ac1c0002 th:hover {\n",
              "          font-size: 15pt;\n",
              "    }    #T_08a2bf28_7600_11eb_8b12_0242ac1c0002 tr:hover td:hover {\n",
              "          max-width: 200px;\n",
              "          font-size: 15pt;\n",
              "    }#T_08a2bf28_7600_11eb_8b12_0242ac1c0002row0_col0,#T_08a2bf28_7600_11eb_8b12_0242ac1c0002row1_col1,#T_08a2bf28_7600_11eb_8b12_0242ac1c0002row2_col2,#T_08a2bf28_7600_11eb_8b12_0242ac1c0002row3_col3,#T_08a2bf28_7600_11eb_8b12_0242ac1c0002row4_col4,#T_08a2bf28_7600_11eb_8b12_0242ac1c0002row5_col5,#T_08a2bf28_7600_11eb_8b12_0242ac1c0002row6_col6{\n",
              "            background-color:  #4479bb;\n",
              "            color:  #000000;\n",
              "            max-width:  100px;\n",
              "            font-size:  15pt;\n",
              "        }#T_08a2bf28_7600_11eb_8b12_0242ac1c0002row0_col1{\n",
              "            background-color:  #5e8bc3;\n",
              "            color:  #000000;\n",
              "            max-width:  100px;\n",
              "            font-size:  15pt;\n",
              "        }#T_08a2bf28_7600_11eb_8b12_0242ac1c0002row0_col2,#T_08a2bf28_7600_11eb_8b12_0242ac1c0002row1_col2,#T_08a2bf28_7600_11eb_8b12_0242ac1c0002row2_col4,#T_08a2bf28_7600_11eb_8b12_0242ac1c0002row3_col2,#T_08a2bf28_7600_11eb_8b12_0242ac1c0002row4_col2,#T_08a2bf28_7600_11eb_8b12_0242ac1c0002row5_col2,#T_08a2bf28_7600_11eb_8b12_0242ac1c0002row6_col2{\n",
              "            background-color:  #d73c5b;\n",
              "            color:  #f1f1f1;\n",
              "            max-width:  100px;\n",
              "            font-size:  15pt;\n",
              "        }#T_08a2bf28_7600_11eb_8b12_0242ac1c0002row0_col3{\n",
              "            background-color:  #dae1eb;\n",
              "            color:  #000000;\n",
              "            max-width:  100px;\n",
              "            font-size:  15pt;\n",
              "        }#T_08a2bf28_7600_11eb_8b12_0242ac1c0002row0_col4,#T_08a2bf28_7600_11eb_8b12_0242ac1c0002row0_col6{\n",
              "            background-color:  #edd0d6;\n",
              "            color:  #000000;\n",
              "            max-width:  100px;\n",
              "            font-size:  15pt;\n",
              "        }#T_08a2bf28_7600_11eb_8b12_0242ac1c0002row0_col5,#T_08a2bf28_7600_11eb_8b12_0242ac1c0002row6_col0{\n",
              "            background-color:  #efdcdf;\n",
              "            color:  #000000;\n",
              "            max-width:  100px;\n",
              "            font-size:  15pt;\n",
              "        }#T_08a2bf28_7600_11eb_8b12_0242ac1c0002row1_col0{\n",
              "            background-color:  #5f8cc3;\n",
              "            color:  #000000;\n",
              "            max-width:  100px;\n",
              "            font-size:  15pt;\n",
              "        }#T_08a2bf28_7600_11eb_8b12_0242ac1c0002row1_col3{\n",
              "            background-color:  #dfe5ed;\n",
              "            color:  #000000;\n",
              "            max-width:  100px;\n",
              "            font-size:  15pt;\n",
              "        }#T_08a2bf28_7600_11eb_8b12_0242ac1c0002row1_col4,#T_08a2bf28_7600_11eb_8b12_0242ac1c0002row6_col4{\n",
              "            background-color:  #ebbec6;\n",
              "            color:  #000000;\n",
              "            max-width:  100px;\n",
              "            font-size:  15pt;\n",
              "        }#T_08a2bf28_7600_11eb_8b12_0242ac1c0002row1_col5{\n",
              "            background-color:  #edccd2;\n",
              "            color:  #000000;\n",
              "            max-width:  100px;\n",
              "            font-size:  15pt;\n",
              "        }#T_08a2bf28_7600_11eb_8b12_0242ac1c0002row1_col6{\n",
              "            background-color:  #efd9dd;\n",
              "            color:  #000000;\n",
              "            max-width:  100px;\n",
              "            font-size:  15pt;\n",
              "        }#T_08a2bf28_7600_11eb_8b12_0242ac1c0002row2_col0{\n",
              "            background-color:  #e48fa0;\n",
              "            color:  #000000;\n",
              "            max-width:  100px;\n",
              "            font-size:  15pt;\n",
              "        }#T_08a2bf28_7600_11eb_8b12_0242ac1c0002row2_col1{\n",
              "            background-color:  #e59aa9;\n",
              "            color:  #000000;\n",
              "            max-width:  100px;\n",
              "            font-size:  15pt;\n",
              "        }#T_08a2bf28_7600_11eb_8b12_0242ac1c0002row2_col3{\n",
              "            background-color:  #e28396;\n",
              "            color:  #000000;\n",
              "            max-width:  100px;\n",
              "            font-size:  15pt;\n",
              "        }#T_08a2bf28_7600_11eb_8b12_0242ac1c0002row2_col5{\n",
              "            background-color:  #dd6179;\n",
              "            color:  #000000;\n",
              "            max-width:  100px;\n",
              "            font-size:  15pt;\n",
              "        }#T_08a2bf28_7600_11eb_8b12_0242ac1c0002row2_col6{\n",
              "            background-color:  #e18093;\n",
              "            color:  #000000;\n",
              "            max-width:  100px;\n",
              "            font-size:  15pt;\n",
              "        }#T_08a2bf28_7600_11eb_8b12_0242ac1c0002row3_col0,#T_08a2bf28_7600_11eb_8b12_0242ac1c0002row3_col1{\n",
              "            background-color:  #d3dce9;\n",
              "            color:  #000000;\n",
              "            max-width:  100px;\n",
              "            font-size:  15pt;\n",
              "        }#T_08a2bf28_7600_11eb_8b12_0242ac1c0002row3_col4{\n",
              "            background-color:  #7ea1cd;\n",
              "            color:  #000000;\n",
              "            max-width:  100px;\n",
              "            font-size:  15pt;\n",
              "        }#T_08a2bf28_7600_11eb_8b12_0242ac1c0002row3_col5{\n",
              "            background-color:  #84a5cf;\n",
              "            color:  #000000;\n",
              "            max-width:  100px;\n",
              "            font-size:  15pt;\n",
              "        }#T_08a2bf28_7600_11eb_8b12_0242ac1c0002row3_col6{\n",
              "            background-color:  #99b4d6;\n",
              "            color:  #000000;\n",
              "            max-width:  100px;\n",
              "            font-size:  15pt;\n",
              "        }#T_08a2bf28_7600_11eb_8b12_0242ac1c0002row4_col0{\n",
              "            background-color:  #e2e7ee;\n",
              "            color:  #000000;\n",
              "            max-width:  100px;\n",
              "            font-size:  15pt;\n",
              "        }#T_08a2bf28_7600_11eb_8b12_0242ac1c0002row4_col1{\n",
              "            background-color:  #e8ebf0;\n",
              "            color:  #000000;\n",
              "            max-width:  100px;\n",
              "            font-size:  15pt;\n",
              "        }#T_08a2bf28_7600_11eb_8b12_0242ac1c0002row4_col3{\n",
              "            background-color:  #7299c9;\n",
              "            color:  #000000;\n",
              "            max-width:  100px;\n",
              "            font-size:  15pt;\n",
              "        }#T_08a2bf28_7600_11eb_8b12_0242ac1c0002row4_col5{\n",
              "            background-color:  #adc2dd;\n",
              "            color:  #000000;\n",
              "            max-width:  100px;\n",
              "            font-size:  15pt;\n",
              "        }#T_08a2bf28_7600_11eb_8b12_0242ac1c0002row4_col6{\n",
              "            background-color:  #f1eaeb;\n",
              "            color:  #000000;\n",
              "            max-width:  100px;\n",
              "            font-size:  15pt;\n",
              "        }#T_08a2bf28_7600_11eb_8b12_0242ac1c0002row5_col0{\n",
              "            background-color:  #ebedf1;\n",
              "            color:  #000000;\n",
              "            max-width:  100px;\n",
              "            font-size:  15pt;\n",
              "        }#T_08a2bf28_7600_11eb_8b12_0242ac1c0002row5_col1{\n",
              "            background-color:  #f1f1f2;\n",
              "            color:  #000000;\n",
              "            max-width:  100px;\n",
              "            font-size:  15pt;\n",
              "        }#T_08a2bf28_7600_11eb_8b12_0242ac1c0002row5_col3{\n",
              "            background-color:  #7da0cd;\n",
              "            color:  #000000;\n",
              "            max-width:  100px;\n",
              "            font-size:  15pt;\n",
              "        }#T_08a2bf28_7600_11eb_8b12_0242ac1c0002row5_col4{\n",
              "            background-color:  #b9cae0;\n",
              "            color:  #000000;\n",
              "            max-width:  100px;\n",
              "            font-size:  15pt;\n",
              "        }#T_08a2bf28_7600_11eb_8b12_0242ac1c0002row5_col6{\n",
              "            background-color:  #e3e8ee;\n",
              "            color:  #000000;\n",
              "            max-width:  100px;\n",
              "            font-size:  15pt;\n",
              "        }#T_08a2bf28_7600_11eb_8b12_0242ac1c0002row6_col1{\n",
              "            background-color:  #f2ebec;\n",
              "            color:  #000000;\n",
              "            max-width:  100px;\n",
              "            font-size:  15pt;\n",
              "        }#T_08a2bf28_7600_11eb_8b12_0242ac1c0002row6_col3{\n",
              "            background-color:  #98b3d6;\n",
              "            color:  #000000;\n",
              "            max-width:  100px;\n",
              "            font-size:  15pt;\n",
              "        }#T_08a2bf28_7600_11eb_8b12_0242ac1c0002row6_col5{\n",
              "            background-color:  #f2eff0;\n",
              "            color:  #000000;\n",
              "            max-width:  100px;\n",
              "            font-size:  15pt;\n",
              "        }</style><table id=\"T_08a2bf28_7600_11eb_8b12_0242ac1c0002\" ><caption>Matriz de Correlação</caption><thead>    <tr>        <th class=\"blank level0\" ></th>        <th class=\"col_heading level0 col0\" >LongestShell</th>        <th class=\"col_heading level0 col1\" >Diameter</th>        <th class=\"col_heading level0 col2\" >Height</th>        <th class=\"col_heading level0 col3\" >WholeWeight</th>        <th class=\"col_heading level0 col4\" >ShuckedWeight</th>        <th class=\"col_heading level0 col5\" >VisceraWeight</th>        <th class=\"col_heading level0 col6\" >ShellWeight</th>    </tr></thead><tbody>\n",
              "                <tr>\n",
              "                        <th id=\"T_08a2bf28_7600_11eb_8b12_0242ac1c0002level0_row0\" class=\"row_heading level0 row0\" >LongestShell</th>\n",
              "                        <td id=\"T_08a2bf28_7600_11eb_8b12_0242ac1c0002row0_col0\" class=\"data row0 col0\" >1.00</td>\n",
              "                        <td id=\"T_08a2bf28_7600_11eb_8b12_0242ac1c0002row0_col1\" class=\"data row0 col1\" >0.99</td>\n",
              "                        <td id=\"T_08a2bf28_7600_11eb_8b12_0242ac1c0002row0_col2\" class=\"data row0 col2\" >0.83</td>\n",
              "                        <td id=\"T_08a2bf28_7600_11eb_8b12_0242ac1c0002row0_col3\" class=\"data row0 col3\" >0.93</td>\n",
              "                        <td id=\"T_08a2bf28_7600_11eb_8b12_0242ac1c0002row0_col4\" class=\"data row0 col4\" >0.90</td>\n",
              "                        <td id=\"T_08a2bf28_7600_11eb_8b12_0242ac1c0002row0_col5\" class=\"data row0 col5\" >0.90</td>\n",
              "                        <td id=\"T_08a2bf28_7600_11eb_8b12_0242ac1c0002row0_col6\" class=\"data row0 col6\" >0.90</td>\n",
              "            </tr>\n",
              "            <tr>\n",
              "                        <th id=\"T_08a2bf28_7600_11eb_8b12_0242ac1c0002level0_row1\" class=\"row_heading level0 row1\" >Diameter</th>\n",
              "                        <td id=\"T_08a2bf28_7600_11eb_8b12_0242ac1c0002row1_col0\" class=\"data row1 col0\" >0.99</td>\n",
              "                        <td id=\"T_08a2bf28_7600_11eb_8b12_0242ac1c0002row1_col1\" class=\"data row1 col1\" >1.00</td>\n",
              "                        <td id=\"T_08a2bf28_7600_11eb_8b12_0242ac1c0002row1_col2\" class=\"data row1 col2\" >0.83</td>\n",
              "                        <td id=\"T_08a2bf28_7600_11eb_8b12_0242ac1c0002row1_col3\" class=\"data row1 col3\" >0.93</td>\n",
              "                        <td id=\"T_08a2bf28_7600_11eb_8b12_0242ac1c0002row1_col4\" class=\"data row1 col4\" >0.89</td>\n",
              "                        <td id=\"T_08a2bf28_7600_11eb_8b12_0242ac1c0002row1_col5\" class=\"data row1 col5\" >0.90</td>\n",
              "                        <td id=\"T_08a2bf28_7600_11eb_8b12_0242ac1c0002row1_col6\" class=\"data row1 col6\" >0.91</td>\n",
              "            </tr>\n",
              "            <tr>\n",
              "                        <th id=\"T_08a2bf28_7600_11eb_8b12_0242ac1c0002level0_row2\" class=\"row_heading level0 row2\" >Height</th>\n",
              "                        <td id=\"T_08a2bf28_7600_11eb_8b12_0242ac1c0002row2_col0\" class=\"data row2 col0\" >0.83</td>\n",
              "                        <td id=\"T_08a2bf28_7600_11eb_8b12_0242ac1c0002row2_col1\" class=\"data row2 col1\" >0.83</td>\n",
              "                        <td id=\"T_08a2bf28_7600_11eb_8b12_0242ac1c0002row2_col2\" class=\"data row2 col2\" >1.00</td>\n",
              "                        <td id=\"T_08a2bf28_7600_11eb_8b12_0242ac1c0002row2_col3\" class=\"data row2 col3\" >0.82</td>\n",
              "                        <td id=\"T_08a2bf28_7600_11eb_8b12_0242ac1c0002row2_col4\" class=\"data row2 col4\" >0.77</td>\n",
              "                        <td id=\"T_08a2bf28_7600_11eb_8b12_0242ac1c0002row2_col5\" class=\"data row2 col5\" >0.80</td>\n",
              "                        <td id=\"T_08a2bf28_7600_11eb_8b12_0242ac1c0002row2_col6\" class=\"data row2 col6\" >0.82</td>\n",
              "            </tr>\n",
              "            <tr>\n",
              "                        <th id=\"T_08a2bf28_7600_11eb_8b12_0242ac1c0002level0_row3\" class=\"row_heading level0 row3\" >WholeWeight</th>\n",
              "                        <td id=\"T_08a2bf28_7600_11eb_8b12_0242ac1c0002row3_col0\" class=\"data row3 col0\" >0.93</td>\n",
              "                        <td id=\"T_08a2bf28_7600_11eb_8b12_0242ac1c0002row3_col1\" class=\"data row3 col1\" >0.93</td>\n",
              "                        <td id=\"T_08a2bf28_7600_11eb_8b12_0242ac1c0002row3_col2\" class=\"data row3 col2\" >0.82</td>\n",
              "                        <td id=\"T_08a2bf28_7600_11eb_8b12_0242ac1c0002row3_col3\" class=\"data row3 col3\" >1.00</td>\n",
              "                        <td id=\"T_08a2bf28_7600_11eb_8b12_0242ac1c0002row3_col4\" class=\"data row3 col4\" >0.97</td>\n",
              "                        <td id=\"T_08a2bf28_7600_11eb_8b12_0242ac1c0002row3_col5\" class=\"data row3 col5\" >0.97</td>\n",
              "                        <td id=\"T_08a2bf28_7600_11eb_8b12_0242ac1c0002row3_col6\" class=\"data row3 col6\" >0.96</td>\n",
              "            </tr>\n",
              "            <tr>\n",
              "                        <th id=\"T_08a2bf28_7600_11eb_8b12_0242ac1c0002level0_row4\" class=\"row_heading level0 row4\" >ShuckedWeight</th>\n",
              "                        <td id=\"T_08a2bf28_7600_11eb_8b12_0242ac1c0002row4_col0\" class=\"data row4 col0\" >0.90</td>\n",
              "                        <td id=\"T_08a2bf28_7600_11eb_8b12_0242ac1c0002row4_col1\" class=\"data row4 col1\" >0.89</td>\n",
              "                        <td id=\"T_08a2bf28_7600_11eb_8b12_0242ac1c0002row4_col2\" class=\"data row4 col2\" >0.77</td>\n",
              "                        <td id=\"T_08a2bf28_7600_11eb_8b12_0242ac1c0002row4_col3\" class=\"data row4 col3\" >0.97</td>\n",
              "                        <td id=\"T_08a2bf28_7600_11eb_8b12_0242ac1c0002row4_col4\" class=\"data row4 col4\" >1.00</td>\n",
              "                        <td id=\"T_08a2bf28_7600_11eb_8b12_0242ac1c0002row4_col5\" class=\"data row4 col5\" >0.93</td>\n",
              "                        <td id=\"T_08a2bf28_7600_11eb_8b12_0242ac1c0002row4_col6\" class=\"data row4 col6\" >0.88</td>\n",
              "            </tr>\n",
              "            <tr>\n",
              "                        <th id=\"T_08a2bf28_7600_11eb_8b12_0242ac1c0002level0_row5\" class=\"row_heading level0 row5\" >VisceraWeight</th>\n",
              "                        <td id=\"T_08a2bf28_7600_11eb_8b12_0242ac1c0002row5_col0\" class=\"data row5 col0\" >0.90</td>\n",
              "                        <td id=\"T_08a2bf28_7600_11eb_8b12_0242ac1c0002row5_col1\" class=\"data row5 col1\" >0.90</td>\n",
              "                        <td id=\"T_08a2bf28_7600_11eb_8b12_0242ac1c0002row5_col2\" class=\"data row5 col2\" >0.80</td>\n",
              "                        <td id=\"T_08a2bf28_7600_11eb_8b12_0242ac1c0002row5_col3\" class=\"data row5 col3\" >0.97</td>\n",
              "                        <td id=\"T_08a2bf28_7600_11eb_8b12_0242ac1c0002row5_col4\" class=\"data row5 col4\" >0.93</td>\n",
              "                        <td id=\"T_08a2bf28_7600_11eb_8b12_0242ac1c0002row5_col5\" class=\"data row5 col5\" >1.00</td>\n",
              "                        <td id=\"T_08a2bf28_7600_11eb_8b12_0242ac1c0002row5_col6\" class=\"data row5 col6\" >0.91</td>\n",
              "            </tr>\n",
              "            <tr>\n",
              "                        <th id=\"T_08a2bf28_7600_11eb_8b12_0242ac1c0002level0_row6\" class=\"row_heading level0 row6\" >ShellWeight</th>\n",
              "                        <td id=\"T_08a2bf28_7600_11eb_8b12_0242ac1c0002row6_col0\" class=\"data row6 col0\" >0.90</td>\n",
              "                        <td id=\"T_08a2bf28_7600_11eb_8b12_0242ac1c0002row6_col1\" class=\"data row6 col1\" >0.91</td>\n",
              "                        <td id=\"T_08a2bf28_7600_11eb_8b12_0242ac1c0002row6_col2\" class=\"data row6 col2\" >0.82</td>\n",
              "                        <td id=\"T_08a2bf28_7600_11eb_8b12_0242ac1c0002row6_col3\" class=\"data row6 col3\" >0.96</td>\n",
              "                        <td id=\"T_08a2bf28_7600_11eb_8b12_0242ac1c0002row6_col4\" class=\"data row6 col4\" >0.88</td>\n",
              "                        <td id=\"T_08a2bf28_7600_11eb_8b12_0242ac1c0002row6_col5\" class=\"data row6 col5\" >0.91</td>\n",
              "                        <td id=\"T_08a2bf28_7600_11eb_8b12_0242ac1c0002row6_col6\" class=\"data row6 col6\" >1.00</td>\n",
              "            </tr>\n",
              "    </tbody></table>"
            ],
            "text/plain": [
              "<pandas.io.formats.style.Styler at 0x7f53d7b98350>"
            ]
          },
          "metadata": {
            "tags": []
          },
          "execution_count": 26
        }
      ]
    },
    {
      "cell_type": "code",
      "metadata": {
        "colab": {
          "base_uri": "https://localhost:8080/",
          "height": 354
        },
        "id": "J2m0ySRBMDNK",
        "outputId": "bf798b4a-8ed5-4b94-c1d6-9ee3c736853c"
      },
      "source": [
        "sns.heatmap(df.corr(), annot=True)"
      ],
      "execution_count": null,
      "outputs": [
        {
          "output_type": "execute_result",
          "data": {
            "text/plain": [
              "<matplotlib.axes._subplots.AxesSubplot at 0x7f53c5368390>"
            ]
          },
          "metadata": {
            "tags": []
          },
          "execution_count": 27
        },
        {
          "output_type": "display_data",
          "data": {
            "image/png": "[encoded data removed]",
            "text/plain": [
              "<Figure size 432x288 with 2 Axes>"
            ]
          },
          "metadata": {
            "tags": [],
            "needs_background": "light"
          }
        }
      ]
    },
    {
      "cell_type": "markdown",
      "metadata": {
        "id": "TRiPtZ1vCnak"
      },
      "source": [
        "# Identificar Outliers\r\n",
        "\r\n"
      ]
    },
    {
      "cell_type": "code",
      "metadata": {
        "colab": {
          "base_uri": "https://localhost:8080/"
        },
        "id": "OYT0uy22ChxV",
        "outputId": "e0d082cd-2636-4232-baed-38b235f0e494"
      },
      "source": [
        "df.columns"
      ],
      "execution_count": null,
      "outputs": [
        {
          "output_type": "execute_result",
          "data": {
            "text/plain": [
              "Index(['Type', 'LongestShell', 'Diameter', 'Height', 'WholeWeight',\n",
              "       'ShuckedWeight', 'VisceraWeight', 'ShellWeight', 'Rings'],\n",
              "      dtype='object')"
            ]
          },
          "metadata": {
            "tags": []
          },
          "execution_count": 35
        }
      ]
    },
    {
      "cell_type": "code",
      "metadata": {
        "colab": {
          "base_uri": "https://localhost:8080/",
          "height": 704
        },
        "id": "u8V12FD8Bvdm",
        "outputId": "6c9689af-a3c3-4420-bb49-8a7a37c38a03"
      },
      "source": [
        "#Detectar outliers\r\n",
        "desvio_padrao = df['LongestShell'].std()\r\n",
        "media = df['LongestShell'].mean()\r\n",
        "display(df.loc[(df['LongestShell'] > media + 2*desvio_padrao) | (df['LongestShell'] < media - 2*desvio_padrao),:])\r\n",
        "sns.boxplot(x=df['LongestShell'])"
      ],
      "execution_count": null,
      "outputs": [
        {
          "output_type": "display_data",
          "data": {
            "text/html": [
              "<div>\n",
              "<style scoped>\n",
              "    .dataframe tbody tr th:only-of-type {\n",
              "        vertical-align: middle;\n",
              "    }\n",
              "\n",
              "    .dataframe tbody tr th {\n",
              "        vertical-align: top;\n",
              "    }\n",
              "\n",
              "    .dataframe thead th {\n",
              "        text-align: right;\n",
              "    }\n",
              "</style>\n",
              "<table border=\"1\" class=\"dataframe\">\n",
              "  <thead>\n",
              "    <tr style=\"text-align: right;\">\n",
              "      <th></th>\n",
              "      <th>Type</th>\n",
              "      <th>LongestShell</th>\n",
              "      <th>Diameter</th>\n",
              "      <th>Height</th>\n",
              "      <th>WholeWeight</th>\n",
              "      <th>ShuckedWeight</th>\n",
              "      <th>VisceraWeight</th>\n",
              "      <th>ShellWeight</th>\n",
              "      <th>Rings</th>\n",
              "    </tr>\n",
              "  </thead>\n",
              "  <tbody>\n",
              "    <tr>\n",
              "      <th>42</th>\n",
              "      <td>0</td>\n",
              "      <td>0.240</td>\n",
              "      <td>0.175</td>\n",
              "      <td>0.045</td>\n",
              "      <td>0.0700</td>\n",
              "      <td>0.0315</td>\n",
              "      <td>0.0235</td>\n",
              "      <td>0.020</td>\n",
              "      <td>5</td>\n",
              "    </tr>\n",
              "    <tr>\n",
              "      <th>43</th>\n",
              "      <td>0</td>\n",
              "      <td>0.205</td>\n",
              "      <td>0.150</td>\n",
              "      <td>0.055</td>\n",
              "      <td>0.0420</td>\n",
              "      <td>0.0255</td>\n",
              "      <td>0.0150</td>\n",
              "      <td>0.012</td>\n",
              "      <td>5</td>\n",
              "    </tr>\n",
              "    <tr>\n",
              "      <th>44</th>\n",
              "      <td>0</td>\n",
              "      <td>0.210</td>\n",
              "      <td>0.150</td>\n",
              "      <td>0.050</td>\n",
              "      <td>0.0420</td>\n",
              "      <td>0.0175</td>\n",
              "      <td>0.0125</td>\n",
              "      <td>0.015</td>\n",
              "      <td>4</td>\n",
              "    </tr>\n",
              "    <tr>\n",
              "      <th>58</th>\n",
              "      <td>0</td>\n",
              "      <td>0.245</td>\n",
              "      <td>0.190</td>\n",
              "      <td>0.060</td>\n",
              "      <td>0.0860</td>\n",
              "      <td>0.0420</td>\n",
              "      <td>0.0140</td>\n",
              "      <td>0.025</td>\n",
              "      <td>4</td>\n",
              "    </tr>\n",
              "    <tr>\n",
              "      <th>125</th>\n",
              "      <td>0</td>\n",
              "      <td>0.270</td>\n",
              "      <td>0.195</td>\n",
              "      <td>0.060</td>\n",
              "      <td>0.0730</td>\n",
              "      <td>0.0285</td>\n",
              "      <td>0.0235</td>\n",
              "      <td>0.030</td>\n",
              "      <td>5</td>\n",
              "    </tr>\n",
              "    <tr>\n",
              "      <th>...</th>\n",
              "      <td>...</td>\n",
              "      <td>...</td>\n",
              "      <td>...</td>\n",
              "      <td>...</td>\n",
              "      <td>...</td>\n",
              "      <td>...</td>\n",
              "      <td>...</td>\n",
              "      <td>...</td>\n",
              "      <td>...</td>\n",
              "    </tr>\n",
              "    <tr>\n",
              "      <th>3994</th>\n",
              "      <td>0</td>\n",
              "      <td>0.185</td>\n",
              "      <td>0.135</td>\n",
              "      <td>0.045</td>\n",
              "      <td>0.0320</td>\n",
              "      <td>0.0110</td>\n",
              "      <td>0.0065</td>\n",
              "      <td>0.010</td>\n",
              "      <td>4</td>\n",
              "    </tr>\n",
              "    <tr>\n",
              "      <th>3995</th>\n",
              "      <td>0</td>\n",
              "      <td>0.245</td>\n",
              "      <td>0.175</td>\n",
              "      <td>0.055</td>\n",
              "      <td>0.0785</td>\n",
              "      <td>0.0400</td>\n",
              "      <td>0.0180</td>\n",
              "      <td>0.020</td>\n",
              "      <td>5</td>\n",
              "    </tr>\n",
              "    <tr>\n",
              "      <th>4023</th>\n",
              "      <td>0</td>\n",
              "      <td>0.275</td>\n",
              "      <td>0.200</td>\n",
              "      <td>0.070</td>\n",
              "      <td>0.0960</td>\n",
              "      <td>0.0370</td>\n",
              "      <td>0.0225</td>\n",
              "      <td>0.030</td>\n",
              "      <td>6</td>\n",
              "    </tr>\n",
              "    <tr>\n",
              "      <th>4148</th>\n",
              "      <td>1</td>\n",
              "      <td>0.770</td>\n",
              "      <td>0.605</td>\n",
              "      <td>0.175</td>\n",
              "      <td>2.0505</td>\n",
              "      <td>0.8005</td>\n",
              "      <td>0.5260</td>\n",
              "      <td>0.355</td>\n",
              "      <td>11</td>\n",
              "    </tr>\n",
              "    <tr>\n",
              "      <th>4149</th>\n",
              "      <td>0</td>\n",
              "      <td>0.280</td>\n",
              "      <td>0.215</td>\n",
              "      <td>0.070</td>\n",
              "      <td>0.1240</td>\n",
              "      <td>0.0630</td>\n",
              "      <td>0.0215</td>\n",
              "      <td>0.030</td>\n",
              "      <td>6</td>\n",
              "    </tr>\n",
              "  </tbody>\n",
              "</table>\n",
              "<p>189 rows × 9 columns</p>\n",
              "</div>"
            ],
            "text/plain": [
              "     Type  LongestShell  Diameter  ...  VisceraWeight  ShellWeight  Rings\n",
              "42      0         0.240     0.175  ...         0.0235        0.020      5\n",
              "43      0         0.205     0.150  ...         0.0150        0.012      5\n",
              "44      0         0.210     0.150  ...         0.0125        0.015      4\n",
              "58      0         0.245     0.190  ...         0.0140        0.025      4\n",
              "125     0         0.270     0.195  ...         0.0235        0.030      5\n",
              "...   ...           ...       ...  ...            ...          ...    ...\n",
              "3994    0         0.185     0.135  ...         0.0065        0.010      4\n",
              "3995    0         0.245     0.175  ...         0.0180        0.020      5\n",
              "4023    0         0.275     0.200  ...         0.0225        0.030      6\n",
              "4148    1         0.770     0.605  ...         0.5260        0.355     11\n",
              "4149    0         0.280     0.215  ...         0.0215        0.030      6\n",
              "\n",
              "[189 rows x 9 columns]"
            ]
          },
          "metadata": {
            "tags": []
          }
        },
        {
          "output_type": "execute_result",
          "data": {
            "text/plain": [
              "<matplotlib.axes._subplots.AxesSubplot at 0x7f53c4e0f210>"
            ]
          },
          "metadata": {
            "tags": []
          },
          "execution_count": 59
        },
        {
          "output_type": "display_data",
          "data": {
            "image/png": "[encoded data removed]",
            "text/plain": [
              "<Figure size 432x288 with 1 Axes>"
            ]
          },
          "metadata": {
            "tags": []
          }
        }
      ]
    },
    {
      "cell_type": "code",
      "metadata": {
        "colab": {
          "base_uri": "https://localhost:8080/",
          "height": 704
        },
        "id": "Wp0LfDXbClPp",
        "outputId": "ec294a16-e406-4d79-a775-000fa99c315f"
      },
      "source": [
        "desvio_padrao = df['Diameter'].std()\r\n",
        "media = df['Diameter'].mean()\r\n",
        "display(df.loc[(df['Diameter'] > media + 2*desvio_padrao) | (df['Diameter'] < media - 2*desvio_padrao),:])\r\n",
        "sns.boxplot(x=df['Diameter'])"
      ],
      "execution_count": null,
      "outputs": [
        {
          "output_type": "display_data",
          "data": {
            "text/html": [
              "<div>\n",
              "<style scoped>\n",
              "    .dataframe tbody tr th:only-of-type {\n",
              "        vertical-align: middle;\n",
              "    }\n",
              "\n",
              "    .dataframe tbody tr th {\n",
              "        vertical-align: top;\n",
              "    }\n",
              "\n",
              "    .dataframe thead th {\n",
              "        text-align: right;\n",
              "    }\n",
              "</style>\n",
              "<table border=\"1\" class=\"dataframe\">\n",
              "  <thead>\n",
              "    <tr style=\"text-align: right;\">\n",
              "      <th></th>\n",
              "      <th>Type</th>\n",
              "      <th>LongestShell</th>\n",
              "      <th>Diameter</th>\n",
              "      <th>Height</th>\n",
              "      <th>WholeWeight</th>\n",
              "      <th>ShuckedWeight</th>\n",
              "      <th>VisceraWeight</th>\n",
              "      <th>ShellWeight</th>\n",
              "      <th>Rings</th>\n",
              "    </tr>\n",
              "  </thead>\n",
              "  <tbody>\n",
              "    <tr>\n",
              "      <th>42</th>\n",
              "      <td>0</td>\n",
              "      <td>0.240</td>\n",
              "      <td>0.175</td>\n",
              "      <td>0.045</td>\n",
              "      <td>0.0700</td>\n",
              "      <td>0.0315</td>\n",
              "      <td>0.0235</td>\n",
              "      <td>0.0200</td>\n",
              "      <td>5</td>\n",
              "    </tr>\n",
              "    <tr>\n",
              "      <th>43</th>\n",
              "      <td>0</td>\n",
              "      <td>0.205</td>\n",
              "      <td>0.150</td>\n",
              "      <td>0.055</td>\n",
              "      <td>0.0420</td>\n",
              "      <td>0.0255</td>\n",
              "      <td>0.0150</td>\n",
              "      <td>0.0120</td>\n",
              "      <td>5</td>\n",
              "    </tr>\n",
              "    <tr>\n",
              "      <th>44</th>\n",
              "      <td>0</td>\n",
              "      <td>0.210</td>\n",
              "      <td>0.150</td>\n",
              "      <td>0.050</td>\n",
              "      <td>0.0420</td>\n",
              "      <td>0.0175</td>\n",
              "      <td>0.0125</td>\n",
              "      <td>0.0150</td>\n",
              "      <td>4</td>\n",
              "    </tr>\n",
              "    <tr>\n",
              "      <th>58</th>\n",
              "      <td>0</td>\n",
              "      <td>0.245</td>\n",
              "      <td>0.190</td>\n",
              "      <td>0.060</td>\n",
              "      <td>0.0860</td>\n",
              "      <td>0.0420</td>\n",
              "      <td>0.0140</td>\n",
              "      <td>0.0250</td>\n",
              "      <td>4</td>\n",
              "    </tr>\n",
              "    <tr>\n",
              "      <th>125</th>\n",
              "      <td>0</td>\n",
              "      <td>0.270</td>\n",
              "      <td>0.195</td>\n",
              "      <td>0.060</td>\n",
              "      <td>0.0730</td>\n",
              "      <td>0.0285</td>\n",
              "      <td>0.0235</td>\n",
              "      <td>0.0300</td>\n",
              "      <td>5</td>\n",
              "    </tr>\n",
              "    <tr>\n",
              "      <th>...</th>\n",
              "      <td>...</td>\n",
              "      <td>...</td>\n",
              "      <td>...</td>\n",
              "      <td>...</td>\n",
              "      <td>...</td>\n",
              "      <td>...</td>\n",
              "      <td>...</td>\n",
              "      <td>...</td>\n",
              "      <td>...</td>\n",
              "    </tr>\n",
              "    <tr>\n",
              "      <th>3963</th>\n",
              "      <td>0</td>\n",
              "      <td>0.270</td>\n",
              "      <td>0.205</td>\n",
              "      <td>0.075</td>\n",
              "      <td>0.1180</td>\n",
              "      <td>0.0590</td>\n",
              "      <td>0.0310</td>\n",
              "      <td>0.0305</td>\n",
              "      <td>4</td>\n",
              "    </tr>\n",
              "    <tr>\n",
              "      <th>3964</th>\n",
              "      <td>0</td>\n",
              "      <td>0.270</td>\n",
              "      <td>0.190</td>\n",
              "      <td>0.060</td>\n",
              "      <td>0.0990</td>\n",
              "      <td>0.0445</td>\n",
              "      <td>0.0170</td>\n",
              "      <td>0.0300</td>\n",
              "      <td>5</td>\n",
              "    </tr>\n",
              "    <tr>\n",
              "      <th>3994</th>\n",
              "      <td>0</td>\n",
              "      <td>0.185</td>\n",
              "      <td>0.135</td>\n",
              "      <td>0.045</td>\n",
              "      <td>0.0320</td>\n",
              "      <td>0.0110</td>\n",
              "      <td>0.0065</td>\n",
              "      <td>0.0100</td>\n",
              "      <td>4</td>\n",
              "    </tr>\n",
              "    <tr>\n",
              "      <th>3995</th>\n",
              "      <td>0</td>\n",
              "      <td>0.245</td>\n",
              "      <td>0.175</td>\n",
              "      <td>0.055</td>\n",
              "      <td>0.0785</td>\n",
              "      <td>0.0400</td>\n",
              "      <td>0.0180</td>\n",
              "      <td>0.0200</td>\n",
              "      <td>5</td>\n",
              "    </tr>\n",
              "    <tr>\n",
              "      <th>4023</th>\n",
              "      <td>0</td>\n",
              "      <td>0.275</td>\n",
              "      <td>0.200</td>\n",
              "      <td>0.070</td>\n",
              "      <td>0.0960</td>\n",
              "      <td>0.0370</td>\n",
              "      <td>0.0225</td>\n",
              "      <td>0.0300</td>\n",
              "      <td>6</td>\n",
              "    </tr>\n",
              "  </tbody>\n",
              "</table>\n",
              "<p>176 rows × 9 columns</p>\n",
              "</div>"
            ],
            "text/plain": [
              "     Type  LongestShell  Diameter  ...  VisceraWeight  ShellWeight  Rings\n",
              "42      0         0.240     0.175  ...         0.0235       0.0200      5\n",
              "43      0         0.205     0.150  ...         0.0150       0.0120      5\n",
              "44      0         0.210     0.150  ...         0.0125       0.0150      4\n",
              "58      0         0.245     0.190  ...         0.0140       0.0250      4\n",
              "125     0         0.270     0.195  ...         0.0235       0.0300      5\n",
              "...   ...           ...       ...  ...            ...          ...    ...\n",
              "3963    0         0.270     0.205  ...         0.0310       0.0305      4\n",
              "3964    0         0.270     0.190  ...         0.0170       0.0300      5\n",
              "3994    0         0.185     0.135  ...         0.0065       0.0100      4\n",
              "3995    0         0.245     0.175  ...         0.0180       0.0200      5\n",
              "4023    0         0.275     0.200  ...         0.0225       0.0300      6\n",
              "\n",
              "[176 rows x 9 columns]"
            ]
          },
          "metadata": {
            "tags": []
          }
        },
        {
          "output_type": "execute_result",
          "data": {
            "text/plain": [
              "<matplotlib.axes._subplots.AxesSubplot at 0x7f53c54e6e90>"
            ]
          },
          "metadata": {
            "tags": []
          },
          "execution_count": 58
        },
        {
          "output_type": "display_data",
          "data": {
            "image/png": "[encoded data removed]",
            "text/plain": [
              "<Figure size 432x288 with 1 Axes>"
            ]
          },
          "metadata": {
            "tags": []
          }
        }
      ]
    },
    {
      "cell_type": "code",
      "metadata": {
        "colab": {
          "base_uri": "https://localhost:8080/",
          "height": 704
        },
        "id": "Hi9ZZzBDCxj9",
        "outputId": "12781c1c-0209-43b1-af1b-c1ddd82b7625"
      },
      "source": [
        "desvio_padrao = df['Height'].std()\r\n",
        "media = df['Height'].mean()\r\n",
        "display(df.loc[(df['Height'] > media + 2*desvio_padrao) | (df['Height'] < media - 2*desvio_padrao),:])\r\n",
        "sns.boxplot(x=df['Height'])"
      ],
      "execution_count": null,
      "outputs": [
        {
          "output_type": "display_data",
          "data": {
            "text/html": [
              "<div>\n",
              "<style scoped>\n",
              "    .dataframe tbody tr th:only-of-type {\n",
              "        vertical-align: middle;\n",
              "    }\n",
              "\n",
              "    .dataframe tbody tr th {\n",
              "        vertical-align: top;\n",
              "    }\n",
              "\n",
              "    .dataframe thead th {\n",
              "        text-align: right;\n",
              "    }\n",
              "</style>\n",
              "<table border=\"1\" class=\"dataframe\">\n",
              "  <thead>\n",
              "    <tr style=\"text-align: right;\">\n",
              "      <th></th>\n",
              "      <th>Type</th>\n",
              "      <th>LongestShell</th>\n",
              "      <th>Diameter</th>\n",
              "      <th>Height</th>\n",
              "      <th>WholeWeight</th>\n",
              "      <th>ShuckedWeight</th>\n",
              "      <th>VisceraWeight</th>\n",
              "      <th>ShellWeight</th>\n",
              "      <th>Rings</th>\n",
              "    </tr>\n",
              "  </thead>\n",
              "  <tbody>\n",
              "    <tr>\n",
              "      <th>42</th>\n",
              "      <td>0</td>\n",
              "      <td>0.240</td>\n",
              "      <td>0.175</td>\n",
              "      <td>0.045</td>\n",
              "      <td>0.0700</td>\n",
              "      <td>0.0315</td>\n",
              "      <td>0.0235</td>\n",
              "      <td>0.0200</td>\n",
              "      <td>5</td>\n",
              "    </tr>\n",
              "    <tr>\n",
              "      <th>43</th>\n",
              "      <td>0</td>\n",
              "      <td>0.205</td>\n",
              "      <td>0.150</td>\n",
              "      <td>0.055</td>\n",
              "      <td>0.0420</td>\n",
              "      <td>0.0255</td>\n",
              "      <td>0.0150</td>\n",
              "      <td>0.0120</td>\n",
              "      <td>5</td>\n",
              "    </tr>\n",
              "    <tr>\n",
              "      <th>44</th>\n",
              "      <td>0</td>\n",
              "      <td>0.210</td>\n",
              "      <td>0.150</td>\n",
              "      <td>0.050</td>\n",
              "      <td>0.0420</td>\n",
              "      <td>0.0175</td>\n",
              "      <td>0.0125</td>\n",
              "      <td>0.0150</td>\n",
              "      <td>4</td>\n",
              "    </tr>\n",
              "    <tr>\n",
              "      <th>148</th>\n",
              "      <td>0</td>\n",
              "      <td>0.175</td>\n",
              "      <td>0.130</td>\n",
              "      <td>0.055</td>\n",
              "      <td>0.0315</td>\n",
              "      <td>0.0105</td>\n",
              "      <td>0.0065</td>\n",
              "      <td>0.0125</td>\n",
              "      <td>5</td>\n",
              "    </tr>\n",
              "    <tr>\n",
              "      <th>164</th>\n",
              "      <td>2</td>\n",
              "      <td>0.650</td>\n",
              "      <td>0.545</td>\n",
              "      <td>0.230</td>\n",
              "      <td>1.7520</td>\n",
              "      <td>0.5605</td>\n",
              "      <td>0.2895</td>\n",
              "      <td>0.8150</td>\n",
              "      <td>16</td>\n",
              "    </tr>\n",
              "    <tr>\n",
              "      <th>...</th>\n",
              "      <td>...</td>\n",
              "      <td>...</td>\n",
              "      <td>...</td>\n",
              "      <td>...</td>\n",
              "      <td>...</td>\n",
              "      <td>...</td>\n",
              "      <td>...</td>\n",
              "      <td>...</td>\n",
              "      <td>...</td>\n",
              "    </tr>\n",
              "    <tr>\n",
              "      <th>3993</th>\n",
              "      <td>1</td>\n",
              "      <td>0.720</td>\n",
              "      <td>0.600</td>\n",
              "      <td>0.235</td>\n",
              "      <td>2.2385</td>\n",
              "      <td>0.9840</td>\n",
              "      <td>0.4110</td>\n",
              "      <td>0.6210</td>\n",
              "      <td>12</td>\n",
              "    </tr>\n",
              "    <tr>\n",
              "      <th>3994</th>\n",
              "      <td>0</td>\n",
              "      <td>0.185</td>\n",
              "      <td>0.135</td>\n",
              "      <td>0.045</td>\n",
              "      <td>0.0320</td>\n",
              "      <td>0.0110</td>\n",
              "      <td>0.0065</td>\n",
              "      <td>0.0100</td>\n",
              "      <td>4</td>\n",
              "    </tr>\n",
              "    <tr>\n",
              "      <th>3995</th>\n",
              "      <td>0</td>\n",
              "      <td>0.245</td>\n",
              "      <td>0.175</td>\n",
              "      <td>0.055</td>\n",
              "      <td>0.0785</td>\n",
              "      <td>0.0400</td>\n",
              "      <td>0.0180</td>\n",
              "      <td>0.0200</td>\n",
              "      <td>5</td>\n",
              "    </tr>\n",
              "    <tr>\n",
              "      <th>3996</th>\n",
              "      <td>0</td>\n",
              "      <td>0.315</td>\n",
              "      <td>0.230</td>\n",
              "      <td>0.000</td>\n",
              "      <td>0.1340</td>\n",
              "      <td>0.0575</td>\n",
              "      <td>0.0285</td>\n",
              "      <td>0.3505</td>\n",
              "      <td>6</td>\n",
              "    </tr>\n",
              "    <tr>\n",
              "      <th>4119</th>\n",
              "      <td>0</td>\n",
              "      <td>0.300</td>\n",
              "      <td>0.215</td>\n",
              "      <td>0.050</td>\n",
              "      <td>0.1185</td>\n",
              "      <td>0.0480</td>\n",
              "      <td>0.0225</td>\n",
              "      <td>0.0420</td>\n",
              "      <td>4</td>\n",
              "    </tr>\n",
              "  </tbody>\n",
              "</table>\n",
              "<p>129 rows × 9 columns</p>\n",
              "</div>"
            ],
            "text/plain": [
              "     Type  LongestShell  Diameter  ...  VisceraWeight  ShellWeight  Rings\n",
              "42      0         0.240     0.175  ...         0.0235       0.0200      5\n",
              "43      0         0.205     0.150  ...         0.0150       0.0120      5\n",
              "44      0         0.210     0.150  ...         0.0125       0.0150      4\n",
              "148     0         0.175     0.130  ...         0.0065       0.0125      5\n",
              "164     2         0.650     0.545  ...         0.2895       0.8150     16\n",
              "...   ...           ...       ...  ...            ...          ...    ...\n",
              "3993    1         0.720     0.600  ...         0.4110       0.6210     12\n",
              "3994    0         0.185     0.135  ...         0.0065       0.0100      4\n",
              "3995    0         0.245     0.175  ...         0.0180       0.0200      5\n",
              "3996    0         0.315     0.230  ...         0.0285       0.3505      6\n",
              "4119    0         0.300     0.215  ...         0.0225       0.0420      4\n",
              "\n",
              "[129 rows x 9 columns]"
            ]
          },
          "metadata": {
            "tags": []
          }
        },
        {
          "output_type": "execute_result",
          "data": {
            "text/plain": [
              "<matplotlib.axes._subplots.AxesSubplot at 0x7f53c4f11d10>"
            ]
          },
          "metadata": {
            "tags": []
          },
          "execution_count": 57
        },
        {
          "output_type": "display_data",
          "data": {
            "image/png": "[encoded data removed]",
            "text/plain": [
              "<Figure size 432x288 with 1 Axes>"
            ]
          },
          "metadata": {
            "tags": []
          }
        }
      ]
    },
    {
      "cell_type": "code",
      "metadata": {
        "colab": {
          "base_uri": "https://localhost:8080/",
          "height": 704
        },
        "id": "Y83uRBljC1o2",
        "outputId": "69af77af-4533-4c6d-ba27-2e184498f242"
      },
      "source": [
        "desvio_padrao = df['WholeWeight'].std()\r\n",
        "media = df['WholeWeight'].mean()\r\n",
        "display(df.loc[(df['WholeWeight'] > media + 2*desvio_padrao) | (df['WholeWeight'] < media - 2*desvio_padrao),:])\r\n",
        "sns.boxplot(x=df['WholeWeight'])"
      ],
      "execution_count": null,
      "outputs": [
        {
          "output_type": "display_data",
          "data": {
            "text/html": [
              "<div>\n",
              "<style scoped>\n",
              "    .dataframe tbody tr th:only-of-type {\n",
              "        vertical-align: middle;\n",
              "    }\n",
              "\n",
              "    .dataframe tbody tr th {\n",
              "        vertical-align: top;\n",
              "    }\n",
              "\n",
              "    .dataframe thead th {\n",
              "        text-align: right;\n",
              "    }\n",
              "</style>\n",
              "<table border=\"1\" class=\"dataframe\">\n",
              "  <thead>\n",
              "    <tr style=\"text-align: right;\">\n",
              "      <th></th>\n",
              "      <th>Type</th>\n",
              "      <th>LongestShell</th>\n",
              "      <th>Diameter</th>\n",
              "      <th>Height</th>\n",
              "      <th>WholeWeight</th>\n",
              "      <th>ShuckedWeight</th>\n",
              "      <th>VisceraWeight</th>\n",
              "      <th>ShellWeight</th>\n",
              "      <th>Rings</th>\n",
              "    </tr>\n",
              "  </thead>\n",
              "  <tbody>\n",
              "    <tr>\n",
              "      <th>129</th>\n",
              "      <td>1</td>\n",
              "      <td>0.710</td>\n",
              "      <td>0.540</td>\n",
              "      <td>0.165</td>\n",
              "      <td>1.9590</td>\n",
              "      <td>0.7665</td>\n",
              "      <td>0.2610</td>\n",
              "      <td>0.780</td>\n",
              "      <td>18</td>\n",
              "    </tr>\n",
              "    <tr>\n",
              "      <th>163</th>\n",
              "      <td>2</td>\n",
              "      <td>0.725</td>\n",
              "      <td>0.560</td>\n",
              "      <td>0.210</td>\n",
              "      <td>2.1410</td>\n",
              "      <td>0.6500</td>\n",
              "      <td>0.3980</td>\n",
              "      <td>1.005</td>\n",
              "      <td>18</td>\n",
              "    </tr>\n",
              "    <tr>\n",
              "      <th>165</th>\n",
              "      <td>1</td>\n",
              "      <td>0.725</td>\n",
              "      <td>0.570</td>\n",
              "      <td>0.190</td>\n",
              "      <td>2.5500</td>\n",
              "      <td>1.0705</td>\n",
              "      <td>0.4830</td>\n",
              "      <td>0.725</td>\n",
              "      <td>14</td>\n",
              "    </tr>\n",
              "    <tr>\n",
              "      <th>166</th>\n",
              "      <td>2</td>\n",
              "      <td>0.725</td>\n",
              "      <td>0.575</td>\n",
              "      <td>0.175</td>\n",
              "      <td>2.1240</td>\n",
              "      <td>0.7650</td>\n",
              "      <td>0.4515</td>\n",
              "      <td>0.850</td>\n",
              "      <td>20</td>\n",
              "    </tr>\n",
              "    <tr>\n",
              "      <th>167</th>\n",
              "      <td>2</td>\n",
              "      <td>0.680</td>\n",
              "      <td>0.570</td>\n",
              "      <td>0.205</td>\n",
              "      <td>1.8420</td>\n",
              "      <td>0.6250</td>\n",
              "      <td>0.4080</td>\n",
              "      <td>0.650</td>\n",
              "      <td>20</td>\n",
              "    </tr>\n",
              "    <tr>\n",
              "      <th>...</th>\n",
              "      <td>...</td>\n",
              "      <td>...</td>\n",
              "      <td>...</td>\n",
              "      <td>...</td>\n",
              "      <td>...</td>\n",
              "      <td>...</td>\n",
              "      <td>...</td>\n",
              "      <td>...</td>\n",
              "      <td>...</td>\n",
              "    </tr>\n",
              "    <tr>\n",
              "      <th>4057</th>\n",
              "      <td>2</td>\n",
              "      <td>0.690</td>\n",
              "      <td>0.535</td>\n",
              "      <td>0.185</td>\n",
              "      <td>1.8260</td>\n",
              "      <td>0.7970</td>\n",
              "      <td>0.4090</td>\n",
              "      <td>0.499</td>\n",
              "      <td>11</td>\n",
              "    </tr>\n",
              "    <tr>\n",
              "      <th>4103</th>\n",
              "      <td>1</td>\n",
              "      <td>0.700</td>\n",
              "      <td>0.545</td>\n",
              "      <td>0.215</td>\n",
              "      <td>1.9125</td>\n",
              "      <td>0.8825</td>\n",
              "      <td>0.4385</td>\n",
              "      <td>0.506</td>\n",
              "      <td>10</td>\n",
              "    </tr>\n",
              "    <tr>\n",
              "      <th>4104</th>\n",
              "      <td>2</td>\n",
              "      <td>0.710</td>\n",
              "      <td>0.545</td>\n",
              "      <td>0.175</td>\n",
              "      <td>1.9070</td>\n",
              "      <td>0.8725</td>\n",
              "      <td>0.4565</td>\n",
              "      <td>0.475</td>\n",
              "      <td>11</td>\n",
              "    </tr>\n",
              "    <tr>\n",
              "      <th>4148</th>\n",
              "      <td>1</td>\n",
              "      <td>0.770</td>\n",
              "      <td>0.605</td>\n",
              "      <td>0.175</td>\n",
              "      <td>2.0505</td>\n",
              "      <td>0.8005</td>\n",
              "      <td>0.5260</td>\n",
              "      <td>0.355</td>\n",
              "      <td>11</td>\n",
              "    </tr>\n",
              "    <tr>\n",
              "      <th>4176</th>\n",
              "      <td>1</td>\n",
              "      <td>0.710</td>\n",
              "      <td>0.555</td>\n",
              "      <td>0.195</td>\n",
              "      <td>1.9485</td>\n",
              "      <td>0.9455</td>\n",
              "      <td>0.3765</td>\n",
              "      <td>0.495</td>\n",
              "      <td>12</td>\n",
              "    </tr>\n",
              "  </tbody>\n",
              "</table>\n",
              "<p>132 rows × 9 columns</p>\n",
              "</div>"
            ],
            "text/plain": [
              "     Type  LongestShell  Diameter  ...  VisceraWeight  ShellWeight  Rings\n",
              "129     1         0.710     0.540  ...         0.2610        0.780     18\n",
              "163     2         0.725     0.560  ...         0.3980        1.005     18\n",
              "165     1         0.725     0.570  ...         0.4830        0.725     14\n",
              "166     2         0.725     0.575  ...         0.4515        0.850     20\n",
              "167     2         0.680     0.570  ...         0.4080        0.650     20\n",
              "...   ...           ...       ...  ...            ...          ...    ...\n",
              "4057    2         0.690     0.535  ...         0.4090        0.499     11\n",
              "4103    1         0.700     0.545  ...         0.4385        0.506     10\n",
              "4104    2         0.710     0.545  ...         0.4565        0.475     11\n",
              "4148    1         0.770     0.605  ...         0.5260        0.355     11\n",
              "4176    1         0.710     0.555  ...         0.3765        0.495     12\n",
              "\n",
              "[132 rows x 9 columns]"
            ]
          },
          "metadata": {
            "tags": []
          }
        },
        {
          "output_type": "execute_result",
          "data": {
            "text/plain": [
              "<matplotlib.axes._subplots.AxesSubplot at 0x7f53c549d110>"
            ]
          },
          "metadata": {
            "tags": []
          },
          "execution_count": 56
        },
        {
          "output_type": "display_data",
          "data": {
            "image/png": "[encoded data removed]",
            "text/plain": [
              "<Figure size 432x288 with 1 Axes>"
            ]
          },
          "metadata": {
            "tags": []
          }
        }
      ]
    },
    {
      "cell_type": "code",
      "metadata": {
        "colab": {
          "base_uri": "https://localhost:8080/",
          "height": 704
        },
        "id": "pvK4-ZM_C4Ro",
        "outputId": "d85b7468-ea4c-4571-d839-1a207ff1eac6"
      },
      "source": [
        "desvio_padrao = df['ShuckedWeight'].std()\r\n",
        "media = df['ShuckedWeight'].mean()\r\n",
        "display(df.loc[(df['ShuckedWeight'] > media + 2*desvio_padrao) | (df['ShuckedWeight'] < media - 2*desvio_padrao),:])\r\n",
        "sns.boxplot(x=df['ShuckedWeight'])"
      ],
      "execution_count": null,
      "outputs": [
        {
          "output_type": "display_data",
          "data": {
            "text/html": [
              "<div>\n",
              "<style scoped>\n",
              "    .dataframe tbody tr th:only-of-type {\n",
              "        vertical-align: middle;\n",
              "    }\n",
              "\n",
              "    .dataframe tbody tr th {\n",
              "        vertical-align: top;\n",
              "    }\n",
              "\n",
              "    .dataframe thead th {\n",
              "        text-align: right;\n",
              "    }\n",
              "</style>\n",
              "<table border=\"1\" class=\"dataframe\">\n",
              "  <thead>\n",
              "    <tr style=\"text-align: right;\">\n",
              "      <th></th>\n",
              "      <th>Type</th>\n",
              "      <th>LongestShell</th>\n",
              "      <th>Diameter</th>\n",
              "      <th>Height</th>\n",
              "      <th>WholeWeight</th>\n",
              "      <th>ShuckedWeight</th>\n",
              "      <th>VisceraWeight</th>\n",
              "      <th>ShellWeight</th>\n",
              "      <th>Rings</th>\n",
              "    </tr>\n",
              "  </thead>\n",
              "  <tbody>\n",
              "    <tr>\n",
              "      <th>33</th>\n",
              "      <td>2</td>\n",
              "      <td>0.680</td>\n",
              "      <td>0.550</td>\n",
              "      <td>0.175</td>\n",
              "      <td>1.7980</td>\n",
              "      <td>0.8150</td>\n",
              "      <td>0.3925</td>\n",
              "      <td>0.4550</td>\n",
              "      <td>19</td>\n",
              "    </tr>\n",
              "    <tr>\n",
              "      <th>165</th>\n",
              "      <td>1</td>\n",
              "      <td>0.725</td>\n",
              "      <td>0.570</td>\n",
              "      <td>0.190</td>\n",
              "      <td>2.5500</td>\n",
              "      <td>1.0705</td>\n",
              "      <td>0.4830</td>\n",
              "      <td>0.7250</td>\n",
              "      <td>14</td>\n",
              "    </tr>\n",
              "    <tr>\n",
              "      <th>168</th>\n",
              "      <td>1</td>\n",
              "      <td>0.705</td>\n",
              "      <td>0.560</td>\n",
              "      <td>0.220</td>\n",
              "      <td>1.9810</td>\n",
              "      <td>0.8175</td>\n",
              "      <td>0.3085</td>\n",
              "      <td>0.7600</td>\n",
              "      <td>14</td>\n",
              "    </tr>\n",
              "    <tr>\n",
              "      <th>358</th>\n",
              "      <td>1</td>\n",
              "      <td>0.745</td>\n",
              "      <td>0.585</td>\n",
              "      <td>0.215</td>\n",
              "      <td>2.4990</td>\n",
              "      <td>0.9265</td>\n",
              "      <td>0.4720</td>\n",
              "      <td>0.7000</td>\n",
              "      <td>17</td>\n",
              "    </tr>\n",
              "    <tr>\n",
              "      <th>882</th>\n",
              "      <td>1</td>\n",
              "      <td>0.655</td>\n",
              "      <td>0.580</td>\n",
              "      <td>0.205</td>\n",
              "      <td>2.0805</td>\n",
              "      <td>0.9590</td>\n",
              "      <td>0.3415</td>\n",
              "      <td>0.6010</td>\n",
              "      <td>17</td>\n",
              "    </tr>\n",
              "    <tr>\n",
              "      <th>...</th>\n",
              "      <td>...</td>\n",
              "      <td>...</td>\n",
              "      <td>...</td>\n",
              "      <td>...</td>\n",
              "      <td>...</td>\n",
              "      <td>...</td>\n",
              "      <td>...</td>\n",
              "      <td>...</td>\n",
              "      <td>...</td>\n",
              "    </tr>\n",
              "    <tr>\n",
              "      <th>4058</th>\n",
              "      <td>2</td>\n",
              "      <td>0.695</td>\n",
              "      <td>0.560</td>\n",
              "      <td>0.185</td>\n",
              "      <td>1.7715</td>\n",
              "      <td>0.8195</td>\n",
              "      <td>0.3310</td>\n",
              "      <td>0.4370</td>\n",
              "      <td>10</td>\n",
              "    </tr>\n",
              "    <tr>\n",
              "      <th>4103</th>\n",
              "      <td>1</td>\n",
              "      <td>0.700</td>\n",
              "      <td>0.545</td>\n",
              "      <td>0.215</td>\n",
              "      <td>1.9125</td>\n",
              "      <td>0.8825</td>\n",
              "      <td>0.4385</td>\n",
              "      <td>0.5060</td>\n",
              "      <td>10</td>\n",
              "    </tr>\n",
              "    <tr>\n",
              "      <th>4104</th>\n",
              "      <td>2</td>\n",
              "      <td>0.710</td>\n",
              "      <td>0.545</td>\n",
              "      <td>0.175</td>\n",
              "      <td>1.9070</td>\n",
              "      <td>0.8725</td>\n",
              "      <td>0.4565</td>\n",
              "      <td>0.4750</td>\n",
              "      <td>11</td>\n",
              "    </tr>\n",
              "    <tr>\n",
              "      <th>4105</th>\n",
              "      <td>2</td>\n",
              "      <td>0.715</td>\n",
              "      <td>0.565</td>\n",
              "      <td>0.180</td>\n",
              "      <td>1.7900</td>\n",
              "      <td>0.8440</td>\n",
              "      <td>0.3535</td>\n",
              "      <td>0.5385</td>\n",
              "      <td>9</td>\n",
              "    </tr>\n",
              "    <tr>\n",
              "      <th>4176</th>\n",
              "      <td>1</td>\n",
              "      <td>0.710</td>\n",
              "      <td>0.555</td>\n",
              "      <td>0.195</td>\n",
              "      <td>1.9485</td>\n",
              "      <td>0.9455</td>\n",
              "      <td>0.3765</td>\n",
              "      <td>0.4950</td>\n",
              "      <td>12</td>\n",
              "    </tr>\n",
              "  </tbody>\n",
              "</table>\n",
              "<p>143 rows × 9 columns</p>\n",
              "</div>"
            ],
            "text/plain": [
              "     Type  LongestShell  Diameter  ...  VisceraWeight  ShellWeight  Rings\n",
              "33      2         0.680     0.550  ...         0.3925       0.4550     19\n",
              "165     1         0.725     0.570  ...         0.4830       0.7250     14\n",
              "168     1         0.705     0.560  ...         0.3085       0.7600     14\n",
              "358     1         0.745     0.585  ...         0.4720       0.7000     17\n",
              "882     1         0.655     0.580  ...         0.3415       0.6010     17\n",
              "...   ...           ...       ...  ...            ...          ...    ...\n",
              "4058    2         0.695     0.560  ...         0.3310       0.4370     10\n",
              "4103    1         0.700     0.545  ...         0.4385       0.5060     10\n",
              "4104    2         0.710     0.545  ...         0.4565       0.4750     11\n",
              "4105    2         0.715     0.565  ...         0.3535       0.5385      9\n",
              "4176    1         0.710     0.555  ...         0.3765       0.4950     12\n",
              "\n",
              "[143 rows x 9 columns]"
            ]
          },
          "metadata": {
            "tags": []
          }
        },
        {
          "output_type": "execute_result",
          "data": {
            "text/plain": [
              "<matplotlib.axes._subplots.AxesSubplot at 0x7f53c5199b90>"
            ]
          },
          "metadata": {
            "tags": []
          },
          "execution_count": 55
        },
        {
          "output_type": "display_data",
          "data": {
            "image/png": "[encoded data removed]",
            "text/plain": [
              "<Figure size 432x288 with 1 Axes>"
            ]
          },
          "metadata": {
            "tags": []
          }
        }
      ]
    },
    {
      "cell_type": "code",
      "metadata": {
        "colab": {
          "base_uri": "https://localhost:8080/",
          "height": 704
        },
        "id": "eQ8W08LbC-oG",
        "outputId": "7fb66da7-6e19-4c45-b2e8-01b0bcbd5512"
      },
      "source": [
        "desvio_padrao = df['VisceraWeight'].std()\r\n",
        "media = df['VisceraWeight'].mean()\r\n",
        "display(df.loc[(df['VisceraWeight'] > media + 2*desvio_padrao) | (df['VisceraWeight'] < media - 2*desvio_padrao),:])\r\n",
        "sns.boxplot(x=df['VisceraWeight'])"
      ],
      "execution_count": null,
      "outputs": [
        {
          "output_type": "display_data",
          "data": {
            "text/html": [
              "<div>\n",
              "<style scoped>\n",
              "    .dataframe tbody tr th:only-of-type {\n",
              "        vertical-align: middle;\n",
              "    }\n",
              "\n",
              "    .dataframe tbody tr th {\n",
              "        vertical-align: top;\n",
              "    }\n",
              "\n",
              "    .dataframe thead th {\n",
              "        text-align: right;\n",
              "    }\n",
              "</style>\n",
              "<table border=\"1\" class=\"dataframe\">\n",
              "  <thead>\n",
              "    <tr style=\"text-align: right;\">\n",
              "      <th></th>\n",
              "      <th>Type</th>\n",
              "      <th>LongestShell</th>\n",
              "      <th>Diameter</th>\n",
              "      <th>Height</th>\n",
              "      <th>WholeWeight</th>\n",
              "      <th>ShuckedWeight</th>\n",
              "      <th>VisceraWeight</th>\n",
              "      <th>ShellWeight</th>\n",
              "      <th>Rings</th>\n",
              "    </tr>\n",
              "  </thead>\n",
              "  <tbody>\n",
              "    <tr>\n",
              "      <th>34</th>\n",
              "      <td>2</td>\n",
              "      <td>0.705</td>\n",
              "      <td>0.550</td>\n",
              "      <td>0.200</td>\n",
              "      <td>1.7095</td>\n",
              "      <td>0.6330</td>\n",
              "      <td>0.4115</td>\n",
              "      <td>0.490</td>\n",
              "      <td>13</td>\n",
              "    </tr>\n",
              "    <tr>\n",
              "      <th>165</th>\n",
              "      <td>1</td>\n",
              "      <td>0.725</td>\n",
              "      <td>0.570</td>\n",
              "      <td>0.190</td>\n",
              "      <td>2.5500</td>\n",
              "      <td>1.0705</td>\n",
              "      <td>0.4830</td>\n",
              "      <td>0.725</td>\n",
              "      <td>14</td>\n",
              "    </tr>\n",
              "    <tr>\n",
              "      <th>166</th>\n",
              "      <td>2</td>\n",
              "      <td>0.725</td>\n",
              "      <td>0.575</td>\n",
              "      <td>0.175</td>\n",
              "      <td>2.1240</td>\n",
              "      <td>0.7650</td>\n",
              "      <td>0.4515</td>\n",
              "      <td>0.850</td>\n",
              "      <td>20</td>\n",
              "    </tr>\n",
              "    <tr>\n",
              "      <th>167</th>\n",
              "      <td>2</td>\n",
              "      <td>0.680</td>\n",
              "      <td>0.570</td>\n",
              "      <td>0.205</td>\n",
              "      <td>1.8420</td>\n",
              "      <td>0.6250</td>\n",
              "      <td>0.4080</td>\n",
              "      <td>0.650</td>\n",
              "      <td>20</td>\n",
              "    </tr>\n",
              "    <tr>\n",
              "      <th>169</th>\n",
              "      <td>2</td>\n",
              "      <td>0.680</td>\n",
              "      <td>0.515</td>\n",
              "      <td>0.175</td>\n",
              "      <td>1.6185</td>\n",
              "      <td>0.5125</td>\n",
              "      <td>0.4090</td>\n",
              "      <td>0.620</td>\n",
              "      <td>12</td>\n",
              "    </tr>\n",
              "    <tr>\n",
              "      <th>...</th>\n",
              "      <td>...</td>\n",
              "      <td>...</td>\n",
              "      <td>...</td>\n",
              "      <td>...</td>\n",
              "      <td>...</td>\n",
              "      <td>...</td>\n",
              "      <td>...</td>\n",
              "      <td>...</td>\n",
              "      <td>...</td>\n",
              "    </tr>\n",
              "    <tr>\n",
              "      <th>4103</th>\n",
              "      <td>1</td>\n",
              "      <td>0.700</td>\n",
              "      <td>0.545</td>\n",
              "      <td>0.215</td>\n",
              "      <td>1.9125</td>\n",
              "      <td>0.8825</td>\n",
              "      <td>0.4385</td>\n",
              "      <td>0.506</td>\n",
              "      <td>10</td>\n",
              "    </tr>\n",
              "    <tr>\n",
              "      <th>4104</th>\n",
              "      <td>2</td>\n",
              "      <td>0.710</td>\n",
              "      <td>0.545</td>\n",
              "      <td>0.175</td>\n",
              "      <td>1.9070</td>\n",
              "      <td>0.8725</td>\n",
              "      <td>0.4565</td>\n",
              "      <td>0.475</td>\n",
              "      <td>11</td>\n",
              "    </tr>\n",
              "    <tr>\n",
              "      <th>4106</th>\n",
              "      <td>2</td>\n",
              "      <td>0.720</td>\n",
              "      <td>0.590</td>\n",
              "      <td>0.205</td>\n",
              "      <td>1.7495</td>\n",
              "      <td>0.7755</td>\n",
              "      <td>0.4225</td>\n",
              "      <td>0.480</td>\n",
              "      <td>11</td>\n",
              "    </tr>\n",
              "    <tr>\n",
              "      <th>4146</th>\n",
              "      <td>1</td>\n",
              "      <td>0.695</td>\n",
              "      <td>0.530</td>\n",
              "      <td>0.210</td>\n",
              "      <td>1.5100</td>\n",
              "      <td>0.6640</td>\n",
              "      <td>0.4095</td>\n",
              "      <td>0.385</td>\n",
              "      <td>10</td>\n",
              "    </tr>\n",
              "    <tr>\n",
              "      <th>4148</th>\n",
              "      <td>1</td>\n",
              "      <td>0.770</td>\n",
              "      <td>0.605</td>\n",
              "      <td>0.175</td>\n",
              "      <td>2.0505</td>\n",
              "      <td>0.8005</td>\n",
              "      <td>0.5260</td>\n",
              "      <td>0.355</td>\n",
              "      <td>11</td>\n",
              "    </tr>\n",
              "  </tbody>\n",
              "</table>\n",
              "<p>153 rows × 9 columns</p>\n",
              "</div>"
            ],
            "text/plain": [
              "     Type  LongestShell  Diameter  ...  VisceraWeight  ShellWeight  Rings\n",
              "34      2         0.705     0.550  ...         0.4115        0.490     13\n",
              "165     1         0.725     0.570  ...         0.4830        0.725     14\n",
              "166     2         0.725     0.575  ...         0.4515        0.850     20\n",
              "167     2         0.680     0.570  ...         0.4080        0.650     20\n",
              "169     2         0.680     0.515  ...         0.4090        0.620     12\n",
              "...   ...           ...       ...  ...            ...          ...    ...\n",
              "4103    1         0.700     0.545  ...         0.4385        0.506     10\n",
              "4104    2         0.710     0.545  ...         0.4565        0.475     11\n",
              "4106    2         0.720     0.590  ...         0.4225        0.480     11\n",
              "4146    1         0.695     0.530  ...         0.4095        0.385     10\n",
              "4148    1         0.770     0.605  ...         0.5260        0.355     11\n",
              "\n",
              "[153 rows x 9 columns]"
            ]
          },
          "metadata": {
            "tags": []
          }
        },
        {
          "output_type": "execute_result",
          "data": {
            "text/plain": [
              "<matplotlib.axes._subplots.AxesSubplot at 0x7f53c4d04650>"
            ]
          },
          "metadata": {
            "tags": []
          },
          "execution_count": 54
        },
        {
          "output_type": "display_data",
          "data": {
            "image/png": "[encoded data removed]",
            "text/plain": [
              "<Figure size 432x288 with 1 Axes>"
            ]
          },
          "metadata": {
            "tags": []
          }
        }
      ]
    },
    {
      "cell_type": "code",
      "metadata": {
        "colab": {
          "base_uri": "https://localhost:8080/",
          "height": 704
        },
        "id": "7m16mlBZDCBj",
        "outputId": "90756018-b799-4aa0-a9db-7267802c20c6"
      },
      "source": [
        "desvio_padrao = df['ShellWeight'].std()\r\n",
        "media = df['ShellWeight'].mean()\r\n",
        "display(df.loc[(df['ShellWeight'] > media + 2*desvio_padrao) | (df['ShellWeight'] < media - 2*desvio_padrao),:])\r\n",
        "sns.boxplot(x=df['ShellWeight'])"
      ],
      "execution_count": null,
      "outputs": [
        {
          "output_type": "display_data",
          "data": {
            "text/html": [
              "<div>\n",
              "<style scoped>\n",
              "    .dataframe tbody tr th:only-of-type {\n",
              "        vertical-align: middle;\n",
              "    }\n",
              "\n",
              "    .dataframe tbody tr th {\n",
              "        vertical-align: top;\n",
              "    }\n",
              "\n",
              "    .dataframe thead th {\n",
              "        text-align: right;\n",
              "    }\n",
              "</style>\n",
              "<table border=\"1\" class=\"dataframe\">\n",
              "  <thead>\n",
              "    <tr style=\"text-align: right;\">\n",
              "      <th></th>\n",
              "      <th>Type</th>\n",
              "      <th>LongestShell</th>\n",
              "      <th>Diameter</th>\n",
              "      <th>Height</th>\n",
              "      <th>WholeWeight</th>\n",
              "      <th>ShuckedWeight</th>\n",
              "      <th>VisceraWeight</th>\n",
              "      <th>ShellWeight</th>\n",
              "      <th>Rings</th>\n",
              "    </tr>\n",
              "  </thead>\n",
              "  <tbody>\n",
              "    <tr>\n",
              "      <th>81</th>\n",
              "      <td>1</td>\n",
              "      <td>0.620</td>\n",
              "      <td>0.510</td>\n",
              "      <td>0.175</td>\n",
              "      <td>1.6150</td>\n",
              "      <td>0.5105</td>\n",
              "      <td>0.1920</td>\n",
              "      <td>0.6750</td>\n",
              "      <td>12</td>\n",
              "    </tr>\n",
              "    <tr>\n",
              "      <th>83</th>\n",
              "      <td>1</td>\n",
              "      <td>0.595</td>\n",
              "      <td>0.475</td>\n",
              "      <td>0.160</td>\n",
              "      <td>1.3175</td>\n",
              "      <td>0.4080</td>\n",
              "      <td>0.2340</td>\n",
              "      <td>0.5800</td>\n",
              "      <td>21</td>\n",
              "    </tr>\n",
              "    <tr>\n",
              "      <th>128</th>\n",
              "      <td>1</td>\n",
              "      <td>0.700</td>\n",
              "      <td>0.535</td>\n",
              "      <td>0.160</td>\n",
              "      <td>1.7255</td>\n",
              "      <td>0.6300</td>\n",
              "      <td>0.2635</td>\n",
              "      <td>0.5400</td>\n",
              "      <td>19</td>\n",
              "    </tr>\n",
              "    <tr>\n",
              "      <th>129</th>\n",
              "      <td>1</td>\n",
              "      <td>0.710</td>\n",
              "      <td>0.540</td>\n",
              "      <td>0.165</td>\n",
              "      <td>1.9590</td>\n",
              "      <td>0.7665</td>\n",
              "      <td>0.2610</td>\n",
              "      <td>0.7800</td>\n",
              "      <td>18</td>\n",
              "    </tr>\n",
              "    <tr>\n",
              "      <th>157</th>\n",
              "      <td>1</td>\n",
              "      <td>0.645</td>\n",
              "      <td>0.485</td>\n",
              "      <td>0.215</td>\n",
              "      <td>1.5140</td>\n",
              "      <td>0.5460</td>\n",
              "      <td>0.2615</td>\n",
              "      <td>0.6350</td>\n",
              "      <td>16</td>\n",
              "    </tr>\n",
              "    <tr>\n",
              "      <th>...</th>\n",
              "      <td>...</td>\n",
              "      <td>...</td>\n",
              "      <td>...</td>\n",
              "      <td>...</td>\n",
              "      <td>...</td>\n",
              "      <td>...</td>\n",
              "      <td>...</td>\n",
              "      <td>...</td>\n",
              "      <td>...</td>\n",
              "    </tr>\n",
              "    <tr>\n",
              "      <th>3987</th>\n",
              "      <td>2</td>\n",
              "      <td>0.655</td>\n",
              "      <td>0.545</td>\n",
              "      <td>0.185</td>\n",
              "      <td>1.7590</td>\n",
              "      <td>0.6865</td>\n",
              "      <td>0.3130</td>\n",
              "      <td>0.5470</td>\n",
              "      <td>11</td>\n",
              "    </tr>\n",
              "    <tr>\n",
              "      <th>3992</th>\n",
              "      <td>1</td>\n",
              "      <td>0.700</td>\n",
              "      <td>0.600</td>\n",
              "      <td>0.230</td>\n",
              "      <td>2.0030</td>\n",
              "      <td>0.8105</td>\n",
              "      <td>0.4045</td>\n",
              "      <td>0.5755</td>\n",
              "      <td>10</td>\n",
              "    </tr>\n",
              "    <tr>\n",
              "      <th>3993</th>\n",
              "      <td>1</td>\n",
              "      <td>0.720</td>\n",
              "      <td>0.600</td>\n",
              "      <td>0.235</td>\n",
              "      <td>2.2385</td>\n",
              "      <td>0.9840</td>\n",
              "      <td>0.4110</td>\n",
              "      <td>0.6210</td>\n",
              "      <td>12</td>\n",
              "    </tr>\n",
              "    <tr>\n",
              "      <th>4105</th>\n",
              "      <td>2</td>\n",
              "      <td>0.715</td>\n",
              "      <td>0.565</td>\n",
              "      <td>0.180</td>\n",
              "      <td>1.7900</td>\n",
              "      <td>0.8440</td>\n",
              "      <td>0.3535</td>\n",
              "      <td>0.5385</td>\n",
              "      <td>9</td>\n",
              "    </tr>\n",
              "    <tr>\n",
              "      <th>4145</th>\n",
              "      <td>1</td>\n",
              "      <td>0.670</td>\n",
              "      <td>0.525</td>\n",
              "      <td>0.200</td>\n",
              "      <td>1.7405</td>\n",
              "      <td>0.6205</td>\n",
              "      <td>0.2970</td>\n",
              "      <td>0.6570</td>\n",
              "      <td>11</td>\n",
              "    </tr>\n",
              "  </tbody>\n",
              "</table>\n",
              "<p>129 rows × 9 columns</p>\n",
              "</div>"
            ],
            "text/plain": [
              "     Type  LongestShell  Diameter  ...  VisceraWeight  ShellWeight  Rings\n",
              "81      1         0.620     0.510  ...         0.1920       0.6750     12\n",
              "83      1         0.595     0.475  ...         0.2340       0.5800     21\n",
              "128     1         0.700     0.535  ...         0.2635       0.5400     19\n",
              "129     1         0.710     0.540  ...         0.2610       0.7800     18\n",
              "157     1         0.645     0.485  ...         0.2615       0.6350     16\n",
              "...   ...           ...       ...  ...            ...          ...    ...\n",
              "3987    2         0.655     0.545  ...         0.3130       0.5470     11\n",
              "3992    1         0.700     0.600  ...         0.4045       0.5755     10\n",
              "3993    1         0.720     0.600  ...         0.4110       0.6210     12\n",
              "4105    2         0.715     0.565  ...         0.3535       0.5385      9\n",
              "4145    1         0.670     0.525  ...         0.2970       0.6570     11\n",
              "\n",
              "[129 rows x 9 columns]"
            ]
          },
          "metadata": {
            "tags": []
          }
        },
        {
          "output_type": "execute_result",
          "data": {
            "text/plain": [
              "<matplotlib.axes._subplots.AxesSubplot at 0x7f53c4d57a90>"
            ]
          },
          "metadata": {
            "tags": []
          },
          "execution_count": 53
        },
        {
          "output_type": "display_data",
          "data": {
            "image/png": "[encoded data removed]",
            "text/plain": [
              "<Figure size 432x288 with 1 Axes>"
            ]
          },
          "metadata": {
            "tags": []
          }
        }
      ]
    },
    {
      "cell_type": "markdown",
      "metadata": {
        "id": "LyI4alC7GC1-"
      },
      "source": [
        "# Criação do modelo\r\n",
        "\r\n",
        "  Nessa etapa, vamos criar o nosso modelo, depois de tirar alguns insights do nossos dados. <br>\r\n",
        "O primeiro passo que vamos fazer é dividir o nosso dataset entre treino e teste, a fim de criarmos o nosso modelo usando os dados de treino e valida-lo usando os dados de teste. Desse modo, quando dividimos o nosso dataset, normalizamos o nosso dados. Essa operação consiste em:<br><br>\r\n",
        "![1_ZGdv9WI8WRe6IDBcNzAvGw.png](data:image/png;base64,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)\r\n",
        "<br><br>Assim, podemos centralizar o nosso espaço de dados e deixar todos os nossos atributos na mesma unidade de medida e podendo diminuir os intervalos dos atributos. E, fazemos esse mesmo procedimento para o dados de teste, usando as médias e o desvios padrão do nossos dataset de treino. <br><br>\r\n"
      ]
    },
    {
      "cell_type": "code",
      "metadata": {
        "id": "a3_4wYTfHmug"
      },
      "source": [
        "from sklearn.model_selection import train_test_split\r\n",
        "x, y = df.drop(columns=['Rings']).copy(), df['Rings'].copy()\r\n",
        "#y=np.log(y)\r\n",
        "X_train, X_test, y_train, y_test = train_test_split(x, y, test_size=0.3, random_state=1)"
      ],
      "execution_count": null,
      "outputs": []
    },
    {
      "cell_type": "code",
      "metadata": {
        "id": "WqNe0-yqD3Cc"
      },
      "source": [
        "#padronização dos dados \r\n",
        "from sklearn.preprocessing import StandardScaler\r\n",
        "sc = StandardScaler()\r\n",
        "#Padronizando os dados de treino\r\n",
        "X_train = sc.fit_transform(X_train)\r\n",
        "\r\n",
        "#Padronizando os dados de teste, conforme os dados de treino\r\n",
        "X_test = sc.transform (X_test)"
      ],
      "execution_count": null,
      "outputs": []
    },
    {
      "cell_type": "markdown",
      "metadata": {
        "id": "oTEgIFgiGM6i"
      },
      "source": [
        "## Questão 1\r\n",
        "\r\n",
        "Use os preditores transformados no conjunto de treinamento para aprender uma revisão linear comum modelo gression e teste o modelo usando o conjunto de teste (lembre-se de aplicar o mesmopré-processamento que você usou no conjunto de treinamento). Compare o desempenho do modeloobtido no conjunto de teste com as estimativas que você obteria usando uma reamostragemesquema como validação cruzada de 5 ou 10 vezes: use o RMSE e R 2 . <br><br>\r\n",
        "### Resposta\r\n",
        "A primeira parte foi analisar um modelo usando uma regressão simples. **Descrever um pouco a regressão linear comum** <br><br> Assim, pegamos o nosso conjunto de treino e fizemos o metódo de cross validation **(Comentar um pouco do que é o cross-validation)** com 10 folds. Em cada repetição, verificamos o R2 score e o RMSE **(Comentar um pouquinho o que cada métrica corresponde)** e anotamos a cada repetição. Por fim, tiramos a média do nosso modelo e testamos ele no nosso dataset de teste. As medidas pareceram muito"
      ]
    },
    {
      "cell_type": "code",
      "metadata": {
        "colab": {
          "base_uri": "https://localhost:8080/"
        },
        "id": "bS5NhWPUXiuC",
        "outputId": "4f319b0c-80e4-4224-f4f8-ae35065d5a0a"
      },
      "source": [
        "from sklearn.model_selection import KFold\r\n",
        "from sklearn.metrics import mean_squared_error\r\n",
        "from sklearn.metrics import r2_score\r\n",
        "from sklearn.linear_model import LinearRegression\r\n",
        "kf = KFold(n_splits=10)\r\n",
        "resultsr2 = []\r\n",
        "resultsrmse = []\r\n",
        "cont = 1\r\n",
        "for train_index, test_index in kf.split(X_train):\r\n",
        "  #print(\"TRAIN:\", train_index, \"TEST:\", test_index)\r\n",
        "  X_train_cross, X_test_cross = X_train[train_index], X_train[test_index]\r\n",
        "  y_train_cross, y_test_cross = y_train.iloc[train_index], y_train.iloc[test_index]\r\n",
        "\r\n",
        "  model = LinearRegression()\r\n",
        "  model.fit(X_train_cross, y_train_cross)\r\n",
        "\r\n",
        "  y_pred = model.predict(X_test_cross)\r\n",
        "  r2 = r2_score(y_test_cross, y_pred)\r\n",
        "  resultsr2.append(r2)\r\n",
        "  print('KFold {}'.format(cont))\r\n",
        "  print(\"Valor do R2: {}\".format(r2))\r\n",
        "  RMSE = mean_squared_error(y_test_cross, y_pred,squared=False)\r\n",
        "  resultsrmse.append(RMSE)\r\n",
        "  print(\"Valor do RMSE: {}\\n\".format(RMSE))\r\n",
        "  cont+=1"
      ],
      "execution_count": null,
      "outputs": [
        {
          "output_type": "stream",
          "text": [
            "KFold 1\n",
            "Valor do R2: 0.4198177635084652\n",
            "Valor do RMSE: 2.543641263800259\n",
            "\n",
            "KFold 2\n",
            "Valor do R2: 0.5391085785750653\n",
            "Valor do RMSE: 2.435371781329064\n",
            "\n",
            "KFold 3\n",
            "Valor do R2: 0.6518130217521143\n",
            "Valor do RMSE: 1.8706767296744407\n",
            "\n",
            "KFold 4\n",
            "Valor do R2: 0.44515057573391537\n",
            "Valor do RMSE: 2.403214686252962\n",
            "\n",
            "KFold 5\n",
            "Valor do R2: 0.568037538190872\n",
            "Valor do RMSE: 2.022725563098375\n",
            "\n",
            "KFold 6\n",
            "Valor do R2: 0.4987851251000356\n",
            "Valor do RMSE: 2.3622274653576305\n",
            "\n",
            "KFold 7\n",
            "Valor do R2: 0.4614093855709165\n",
            "Valor do RMSE: 2.426734614835632\n",
            "\n",
            "KFold 8\n",
            "Valor do R2: 0.6251033150823979\n",
            "Valor do RMSE: 1.9365745769839637\n",
            "\n",
            "KFold 9\n",
            "Valor do R2: 0.52570977021525\n",
            "Valor do RMSE: 2.2888468599944116\n",
            "\n",
            "KFold 10\n",
            "Valor do R2: 0.4709330014293587\n",
            "Valor do RMSE: 2.0796478838835255\n",
            "\n"
          ],
          "name": "stdout"
        }
      ]
    },
    {
      "cell_type": "code",
      "metadata": {
        "colab": {
          "base_uri": "https://localhost:8080/",
          "height": 318
        },
        "id": "RBLhx1Kunec_",
        "outputId": "9190fa98-2250-43f2-efad-bbac968b630c"
      },
      "source": [
        "aa = [1,2,3,4,5,6,7,8,9,10]\r\n",
        "plt.plot(aa, resultsr2)\r\n",
        "plt.xlabel('KFold')\r\n",
        "plt.ylabel('R2')\r\n",
        "plt.title('Como o modelo se saiu em cada Fold')"
      ],
      "execution_count": null,
      "outputs": [
        {
          "output_type": "execute_result",
          "data": {
            "text/plain": [
              "Text(0.5, 1.0, 'Como o modelo se saiu em cada Fold')"
            ]
          },
          "metadata": {
            "tags": []
          },
          "execution_count": 84
        },
        {
          "output_type": "display_data",
          "data": {
            "image/png": "[encoded data removed]",
            "text/plain": [
              "<Figure size 432x288 with 1 Axes>"
            ]
          },
          "metadata": {
            "tags": []
          }
        }
      ]
    },
    {
      "cell_type": "code",
      "metadata": {
        "colab": {
          "base_uri": "https://localhost:8080/",
          "height": 318
        },
        "id": "GIzto-I6oKY8",
        "outputId": "7102b27a-0408-4e17-a40a-499168dbc991"
      },
      "source": [
        "plt.plot(aa, resultsrmse)\r\n",
        "plt.xlabel('KFold')\r\n",
        "plt.ylabel('RMSE')\r\n",
        "plt.title('Como o modelo se saiu em cada Fold')"
      ],
      "execution_count": null,
      "outputs": [
        {
          "output_type": "execute_result",
          "data": {
            "text/plain": [
              "Text(0.5, 1.0, 'Como o modelo se saiu em cada Fold')"
            ]
          },
          "metadata": {
            "tags": []
          },
          "execution_count": 85
        },
        {
          "output_type": "display_data",
          "data": {
            "image/png": "[encoded data removed]",
            "text/plain": [
              "<Figure size 432x288 with 1 Axes>"
            ]
          },
          "metadata": {
            "tags": []
          }
        }
      ]
    },
    {
      "cell_type": "code",
      "metadata": {
        "colab": {
          "base_uri": "https://localhost:8080/"
        },
        "id": "JskD1ZK8cyty",
        "outputId": "838de2c7-d2de-4702-c75a-6266a2438a0e"
      },
      "source": [
        "mediar2 = np.mean(resultsr2)\r\n",
        "mediarmse = np.mean(resultsrmse)\r\n",
        "print(\"No treino:\\nValor médio do R2: {}\\nValor médio do RMSE: {}\".format(mediar2, mediarmse))"
      ],
      "execution_count": null,
      "outputs": [
        {
          "output_type": "stream",
          "text": [
            "No treino:\n",
            "Valor médio do R2: 0.5205868075158391\n",
            "Valor médio do RMSE: 2.2369661425210263\n"
          ],
          "name": "stdout"
        }
      ]
    },
    {
      "cell_type": "code",
      "metadata": {
        "colab": {
          "base_uri": "https://localhost:8080/"
        },
        "id": "7RnOeTudQsrT",
        "outputId": "903fa06f-a463-4ac5-e2bb-d7d276be1650"
      },
      "source": [
        "#Usando os nossos dados de treino para construir o modelo\r\n",
        "model.fit(X_train, y_train)\r\n",
        "y_pred = model.predict(X_test)\r\n",
        "r2 = r2_score(y_test, y_pred)\r\n",
        "RMSE = mean_squared_error(y_test, y_pred,squared=False)\r\n",
        "print('Visualizar como os nosso modelo se sai com os dados de teste:\\n')\r\n",
        "print('R2: {}\\nRMSE: {}\\n'.format(r2, RMSE))"
      ],
      "execution_count": null,
      "outputs": [
        {
          "output_type": "stream",
          "text": [
            "Visualizar como os nosso modelo se sai com os dados de teste:\n",
            "\n",
            "R2: 0.5174659639277195\n",
            "RMSE: 2.2027336421649606\n",
            "\n"
          ],
          "name": "stdout"
        }
      ]
    },
    {
      "cell_type": "markdown",
      "metadata": {
        "id": "KBWxKXM_r0Qb"
      },
      "source": [
        "---\r\n",
        "\r\n"
      ]
    },
    {
      "cell_type": "markdown",
      "metadata": {
        "id": "YmEBmxerGR3I"
      },
      "source": [
        "## Questão 2\r\n",
        "\r\n",
        " Use os preditores transformados no conjunto de treinamento para aprender um método linear penalizado L2 modelo de regressão e teste o modelo usando o conjunto de teste (lembre-se de aplicar o mesmo pré-processamento que você usou no conjunto de treinamento). Determine o valor ideal de λ usando uma validação cruzada de 5 ou 10 vezes com base no RMSE (você só pode usar o treinamento definido nesta fase, e seu espaço de pesquisa λ deve consistir em pelo menos 10 valores). Relatório sobre o processo (mostrar o perfil de validação cruzada, tanto nos termos do RMSE e R2). Relate a precisão (RMSE e R2) obtida no conjunto de teste.<br><br>\r\n",
        "\r\n",
        "\r\n",
        "---\r\n",
        "\r\n",
        "\r\n",
        "#### Ridge (ou L2)\r\n",
        "![1__2_bFm9NkDrOmfOYs5lNFA.png](https://miro.medium.com/max/530/1*_2_bFm9NkDrOmfOYs5lNFA.png)\r\n",
        "\r\n",
        "<h4>Tem que parafrasear o texto abaixo:</h4>\r\n",
        "Nesse modelo, a penalização consiste nos quadrados dos coeficientes, ao invés de seus módulos. Qual será o efeito dessa regularização nos coeficientes de duas features altamente correlacionadas? Poderíamos ter duas features com coeficientes parecidos, ou uma com coeficiente alto, e outra com coeficiente zero. Como a penalização L2 é desproporcionalmente maior para coeficientes maiores, a regularização Ridge faz com que features correlacionadas tenham coeficientes parecidos.\r\n",
        "No entanto, essa regularização não diminui a susceptibilidade do modelo a outliers, de forma que é recomendável limpar o dataset e remover features desnecessárias antes de realizar esse tipo de regressão.\r\n",
        "Em termos matemáticos, a penalidade L1 não é diferenciável, o que pode complicar a sua implementação. Já a L2 é diferenciável, o que significa que ela pode ser usada em abordagens baseadas em gradiente."
      ]
    },
    {
      "cell_type": "code",
      "metadata": {
        "colab": {
          "base_uri": "https://localhost:8080/"
        },
        "id": "M1c3JVtR8mja",
        "outputId": "72e81d55-ea66-42b8-90be-4c622554d39a"
      },
      "source": [
        "from sklearn.linear_model import Ridge\r\n",
        "passo = 0.1\r\n",
        "alpha = passo\r\n",
        "r_r2 = []\r\n",
        "r_rmse = []\r\n",
        "aux = []\r\n",
        "for i in range(1, 11):\r\n",
        "  print(\"{}° vez - Alpha = {}\".format(i, alpha))\r\n",
        "  ridge = Ridge(alpha = alpha)\r\n",
        "  aux.append(alpha)\r\n",
        "  rmse = np.mean((-1*cross_val_score(ridge, X_train, y_train, cv=10, scoring='neg_mean_squared_error'))**0.5)\r\n",
        "  r2 = np.mean(cross_val_score(ridge, X_train, y_train, cv=10, scoring='r2'))\r\n",
        "  r_r2.append(r2)\r\n",
        "  r_rmse.append(rmse)\r\n",
        "  print('Utilizando 10 Folds:\\n')\r\n",
        "  print('R2 Médio: ', r2)\r\n",
        "  print('RMSE MédiO: ', rmse)\r\n",
        "  alpha+=passo\r\n",
        "  print()"
      ],
      "execution_count": null,
      "outputs": [
        {
          "output_type": "stream",
          "text": [
            "1° vez - Alpha = 0.1\n",
            "Utilizando 10 Folds:\n",
            "\n",
            "R2 Médio:  0.5206089659933484\n",
            "RMSE MédiO:  2.2369259594582256\n",
            "\n",
            "2° vez - Alpha = 0.2\n",
            "Utilizando 10 Folds:\n",
            "\n",
            "R2 Médio:  0.5206295112886644\n",
            "RMSE MédiO:  2.2368893274963755\n",
            "\n",
            "3° vez - Alpha = 0.30000000000000004\n",
            "Utilizando 10 Folds:\n",
            "\n",
            "R2 Médio:  0.5206484939384219\n",
            "RMSE MédiO:  2.236856134761993\n",
            "\n",
            "4° vez - Alpha = 0.4\n",
            "Utilizando 10 Folds:\n",
            "\n",
            "R2 Médio:  0.5206659627797973\n",
            "RMSE MédiO:  2.236826273115505\n",
            "\n",
            "5° vez - Alpha = 0.5\n",
            "Utilizando 10 Folds:\n",
            "\n",
            "R2 Médio:  0.520681965014905\n",
            "RMSE MédiO:  2.2367996380118504\n",
            "\n",
            "6° vez - Alpha = 0.6\n",
            "Utilizando 10 Folds:\n",
            "\n",
            "R2 Médio:  0.520696546272448\n",
            "RMSE MédiO:  2.2367761283669134\n",
            "\n",
            "7° vez - Alpha = 0.7\n",
            "Utilizando 10 Folds:\n",
            "\n",
            "R2 Médio:  0.5207097506667371\n",
            "RMSE MédiO:  2.2367556464295335\n",
            "\n",
            "8° vez - Alpha = 0.7999999999999999\n",
            "Utilizando 10 Folds:\n",
            "\n",
            "R2 Médio:  0.5207216208542214\n",
            "RMSE MédiO:  2.236738097658814\n",
            "\n",
            "9° vez - Alpha = 0.8999999999999999\n",
            "Utilizando 10 Folds:\n",
            "\n",
            "R2 Médio:  0.52073219808763\n",
            "RMSE MédiO:  2.236723390606504\n",
            "\n",
            "10° vez - Alpha = 0.9999999999999999\n",
            "Utilizando 10 Folds:\n",
            "\n",
            "R2 Médio:  0.5207415222678542\n",
            "RMSE MédiO:  2.2367114368042054\n",
            "\n"
          ],
          "name": "stdout"
        }
      ]
    },
    {
      "cell_type": "code",
      "metadata": {
        "colab": {
          "base_uri": "https://localhost:8080/",
          "height": 302
        },
        "id": "OY_Y3KZn9-GF",
        "outputId": "de6fed54-0360-42e1-ef53-69a043b33b8f"
      },
      "source": [
        "plt.plot(aux, r_r2)\r\n",
        "plt.xlabel('λ')\r\n",
        "plt.ylabel('R2')"
      ],
      "execution_count": null,
      "outputs": [
        {
          "output_type": "execute_result",
          "data": {
            "text/plain": [
              "Text(0, 0.5, 'R2')"
            ]
          },
          "metadata": {
            "tags": []
          },
          "execution_count": 87
        },
        {
          "output_type": "display_data",
          "data": {
            "image/png": "[encoded data removed]",
            "text/plain": [
              "<Figure size 432x288 with 1 Axes>"
            ]
          },
          "metadata": {
            "tags": []
          }
        }
      ]
    },
    {
      "cell_type": "code",
      "metadata": {
        "colab": {
          "base_uri": "https://localhost:8080/",
          "height": 313
        },
        "id": "ddmOHrN1--dX",
        "outputId": "361efc88-4501-47bd-8a7a-709cae363792"
      },
      "source": [
        "plt.plot(aux, r_rmse)\r\n",
        "plt.xlabel('λ')\r\n",
        "plt.ylabel('RMSE')"
      ],
      "execution_count": null,
      "outputs": [
        {
          "output_type": "execute_result",
          "data": {
            "text/plain": [
              "Text(0, 0.5, 'RMSE')"
            ]
          },
          "metadata": {
            "tags": []
          },
          "execution_count": 88
        },
        {
          "output_type": "display_data",
          "data": {
            "image/png": "[encoded data removed]",
            "text/plain": [
              "<Figure size 432x288 with 1 Axes>"
            ]
          },
          "metadata": {
            "tags": []
          }
        }
      ]
    },
    {
      "cell_type": "code",
      "metadata": {
        "colab": {
          "base_uri": "https://localhost:8080/"
        },
        "id": "Uhmox2oi_Wb2",
        "outputId": "31a5b3bc-589e-49d8-b471-c1c936616a83"
      },
      "source": [
        "#Usando os nossos dados de Teste\r\n",
        "ridge.fit(X_train, y_train)\r\n",
        "y_pred = ridge.predict(X_test)\r\n",
        "r2 = r2_score(y_test, y_pred)\r\n",
        "RMSE = mean_squared_error(y_test, y_pred,squared=False)\r\n",
        "print('Visualizar como os nosso modelo se sai com os dados de treino:\\n')\r\n",
        "print('R2: {}\\nRMSE: {}\\n'.format(r2, RMSE))"
      ],
      "execution_count": null,
      "outputs": [
        {
          "output_type": "stream",
          "text": [
            "Visualizar como os nosso modelo se sai com os dados de treino:\n",
            "\n",
            "R2: 0.5174475031191385\n",
            "RMSE: 2.2027757779027084\n",
            "\n"
          ],
          "name": "stdout"
        }
      ]
    },
    {
      "cell_type": "markdown",
      "metadata": {
        "id": "-lSr3lxQr7FY"
      },
      "source": [
        "\r\n",
        "\r\n",
        "---\r\n",
        "\r\n"
      ]
    },
    {
      "cell_type": "markdown",
      "metadata": {
        "id": "51o5zPdOGUl7"
      },
      "source": [
        "## Questão 3\r\n",
        "\r\n",
        " Use os preditores transformados no conjunto de treinamento para aprender um PLS ou um PCR modelo de regressão e teste o modelo usando o conjunto de teste (lembre-se de aplicar o mesmo pré-processamento que você usou no conjunto de treinamento). Determine o número ideal de componentes usando uma validação cruzada de 5 ou 10 vezes com base no RMSE (você pode usar apenas o conjunto de treinamento nesta fase). Relatório sobre o processo (mostrar a validação cruzada perfil, tanto em termos de RMSE e R2). Relate a precisão (RMSE e R2) obtido no conjunto de teste.\r\n",
        " \r\n",
        " ----\r\n",
        "\r\n",
        " ### Lasso (ou L1) \r\n",
        "![imagem_lasso](https://miro.medium.com/max/535/1*dynW6DLJxX2iaMrnfgxk_A.png)<br>\r\n",
        "Além de diminuir a variância do modelo, essa regularização tem uma outra importante aplicação em machine learning. Quando há múltiplas features altamente correlacionadas (ou seja, features que se comportam da mesma maneira) a regularização Lasso seleciona apenas uma dessas features e zera os coeficientes das outras, de forma a minimizar a penalização L1. Desse modo, dizemos que esse modelo realiza feature selection automaticamente, gerando vários coeficientes com peso zero, ou seja, que são ignorados pelo modelo. Isso facilita a interpretação do modelo, o que é uma enorme vantagem.\r\n"
      ]
    },
    {
      "cell_type": "code",
      "metadata": {
        "id": "qVLpXJsNBZO3"
      },
      "source": [
        "from sklearn.model_selection import train_test_split\r\n",
        "x, y = df.drop(columns=['Rings']).copy(), df['Rings'].copy()\r\n",
        "#y=np.log(y)\r\n",
        "X_train, X_test, y_train, y_test = train_test_split(x, y, test_size=0.3, random_state=1)\r\n",
        "#padronização dos dados \r\n",
        "from sklearn.preprocessing import StandardScaler\r\n",
        "sc = StandardScaler()\r\n",
        "#Padronizando os dados de treino\r\n",
        "X_train = sc.fit_transform(X_train)\r\n",
        "#Padronizando os dados de teste, conforme os dados de treino\r\n",
        "X_test = sc.transform (X_test)"
      ],
      "execution_count": null,
      "outputs": []
    },
    {
      "cell_type": "code",
      "metadata": {
        "colab": {
          "base_uri": "https://localhost:8080/"
        },
        "id": "zBLdqNjycDhk",
        "outputId": "86cd82c3-1c20-4fe3-97cc-4eb00569362b"
      },
      "source": [
        "from sklearn.linear_model import Lasso\r\n",
        "from sklearn.decomposition import PCA\r\n",
        "pca = PCA()\r\n",
        "X_reduced = pca.fit_transform(X_train)\r\n",
        "num_colunas = X_train.shape[1]\r\n",
        "lasso = Lasso(random_state=42, alpha=0.1)\r\n",
        "r_r2 = []\r\n",
        "r_rmse = []\r\n",
        "for i in range(1, num_colunas+1, 1):\r\n",
        "  print(\"Usando {} componentes principais\\n\".format(i))\r\n",
        "  r2 = np.mean(cross_val_score(lasso, X_reduced[:,:i], y_train, cv=10, scoring='r2'))\r\n",
        "  print('R2 médio: ', r2)\r\n",
        "  r_r2.append(r2)\r\n",
        "  rmse = np.mean((-1*cross_val_score(lasso, X_reduced[:,:i], y_train, cv=10, scoring='neg_mean_squared_error'))**0.5)\r\n",
        "  print('RMSE médio: ', rmse)\r\n",
        "  r_rmse.append(rmse)\r\n",
        "  print()"
      ],
      "execution_count": null,
      "outputs": [
        {
          "output_type": "stream",
          "text": [
            "Usando 1 componentes principais\n",
            "\n",
            "R2 médio:  0.3359223132753144\n",
            "RMSE médio:  2.636536099513773\n",
            "\n",
            "Usando 2 componentes principais\n",
            "\n",
            "R2 médio:  0.34047407437072497\n",
            "RMSE médio:  2.6279884374440625\n",
            "\n",
            "Usando 3 componentes principais\n",
            "\n",
            "R2 médio:  0.3307518597018312\n",
            "RMSE médio:  2.640785948572719\n",
            "\n",
            "Usando 4 componentes principais\n",
            "\n",
            "R2 médio:  0.3316540109842408\n",
            "RMSE médio:  2.638985855417803\n",
            "\n",
            "Usando 5 componentes principais\n",
            "\n",
            "R2 médio:  0.486868269062664\n",
            "RMSE médio:  2.3163735072426603\n",
            "\n",
            "Usando 6 componentes principais\n",
            "\n",
            "R2 médio:  0.486868269062664\n",
            "RMSE médio:  2.3163735072426603\n",
            "\n",
            "Usando 7 componentes principais\n",
            "\n",
            "R2 médio:  0.486868269062664\n",
            "RMSE médio:  2.3163735072426603\n",
            "\n",
            "Usando 8 componentes principais\n",
            "\n",
            "R2 médio:  0.486868269062664\n",
            "RMSE médio:  2.3163735072426603\n",
            "\n"
          ],
          "name": "stdout"
        }
      ]
    },
    {
      "cell_type": "code",
      "metadata": {
        "colab": {
          "base_uri": "https://localhost:8080/",
          "height": 318
        },
        "id": "gkFhe8gXjh_p",
        "outputId": "636353e3-d0b0-4c82-be64-1b321da19056"
      },
      "source": [
        "xx = [1,2,4,5,6,7,8, 9]\r\n",
        "plt.plot(xx, r_r2, '-v')\r\n",
        "plt.title('Treino')\r\n",
        "plt.xlabel('Número de componentes principais na regressão')\r\n",
        "plt.ylabel('R2')"
      ],
      "execution_count": null,
      "outputs": [
        {
          "output_type": "execute_result",
          "data": {
            "text/plain": [
              "Text(0, 0.5, 'R2')"
            ]
          },
          "metadata": {
            "tags": []
          },
          "execution_count": 70
        },
        {
          "output_type": "display_data",
          "data": {
            "image/png": "[encoded data removed]",
            "text/plain": [
              "<Figure size 432x288 with 1 Axes>"
            ]
          },
          "metadata": {
            "tags": []
          }
        }
      ]
    },
    {
      "cell_type": "code",
      "metadata": {
        "colab": {
          "base_uri": "https://localhost:8080/",
          "height": 318
        },
        "id": "MnY81jrWjopn",
        "outputId": "7352a450-aeb8-4216-f8f5-b765ccbf9d38"
      },
      "source": [
        "plt.plot(xx, r_rmse, '-v')\r\n",
        "plt.title('Treino')\r\n",
        "plt.xlabel('Número de componentes principais na regressão')\r\n",
        "plt.ylabel('RMSE')"
      ],
      "execution_count": null,
      "outputs": [
        {
          "output_type": "execute_result",
          "data": {
            "text/plain": [
              "Text(0, 0.5, 'RMSE')"
            ]
          },
          "metadata": {
            "tags": []
          },
          "execution_count": 71
        },
        {
          "output_type": "display_data",
          "data": {
            "image/png": "[encoded data removed]",
            "text/plain": [
              "<Figure size 432x288 with 1 Axes>"
            ]
          },
          "metadata": {
            "tags": []
          }
        }
      ]
    },
    {
      "cell_type": "markdown",
      "metadata": {
        "id": "fJHWof_gDlYJ"
      },
      "source": [
        "#### O número ideal é a partir de 5 componentes, haja visto que o modelo passa a ter as métricas R2 e RMSE constantes"
      ]
    },
    {
      "cell_type": "code",
      "metadata": {
        "colab": {
          "base_uri": "https://localhost:8080/"
        },
        "id": "mMSFB5r9_-_6",
        "outputId": "9c1e2016-a467-4498-e9d5-9dc08dcd98e5"
      },
      "source": [
        "#A partir da quarta componente, temos as mesmas métricas. Vamos ver como o teste se sai.\r\n",
        "pca = PCA()\r\n",
        "z = pca.fit(X_test)\r\n",
        "X_reduced_test = z.transform(X_test)\r\n",
        "model = Lasso(random_state=42, alpha=0.1)\r\n",
        "model.fit(X_reduced[:,:6], y_train)\r\n",
        "y_pred = model.predict(X_reduced_test[:,:6])\r\n",
        "r2 = r2_score(y_test, y_pred)\r\n",
        "RMSE = mean_squared_error(y_test, y_pred,squared=False)\r\n",
        "print('Visualizar como os nosso modelo se sai com os dados de teste:\\n')\r\n",
        "print('R2: {}\\nRMSE: {}\\n'.format(r2, RMSE))"
      ],
      "execution_count": null,
      "outputs": [
        {
          "output_type": "stream",
          "text": [
            "Visualizar como os nosso modelo se sai com os dados de teste:\n",
            "\n",
            "R2: 0.41326336625234295\n",
            "RMSE: 2.4289557952614147\n",
            "\n"
          ],
          "name": "stdout"
        }
      ]
    }
  ]
}